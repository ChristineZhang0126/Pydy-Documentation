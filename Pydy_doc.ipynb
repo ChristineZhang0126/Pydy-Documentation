{
 "cells": [
  {
   "cell_type": "code",
   "execution_count": 106,
   "id": "d7c0ea84-72b7-40ed-82e7-822abdbef741",
   "metadata": {},
   "outputs": [
    {
     "name": "stdout",
     "output_type": "stream",
     "text": [
      "3.12.7 (main, Nov 24 2024, 05:42:37) [Clang 14.0.0 (clang-1400.0.29.202)]\n"
     ]
    }
   ],
   "source": [
    "import sys\n",
    "print(sys.version)"
   ]
  },
  {
   "cell_type": "code",
   "execution_count": 107,
   "id": "918bae9f-d37d-40ce-bd5d-10379e585e83",
   "metadata": {},
   "outputs": [
    {
     "name": "stdout",
     "output_type": "stream",
     "text": [
      "7.0.6\n"
     ]
    }
   ],
   "source": [
    "!jupyter notebook --version"
   ]
  },
  {
   "cell_type": "code",
   "execution_count": 108,
   "id": "111cb6e8-bdb8-4d20-b2ee-288480d07cb2",
   "metadata": {},
   "outputs": [
    {
     "name": "stdout",
     "output_type": "stream",
     "text": [
      "Requirement already satisfied: pydy in /opt/homebrew/Cellar/jupyterlab/4.0.8_1/libexec/lib/python3.12/site-packages (0.7.1)\n",
      "Requirement already satisfied: numpy>=1.16.5 in /opt/homebrew/Cellar/jupyterlab/4.0.8_1/libexec/lib/python3.12/site-packages (from pydy) (1.26.2)\n",
      "Requirement already satisfied: setuptools>=44.0.0 in /opt/homebrew/lib/python3.12/site-packages (from pydy) (68.2.2)\n",
      "Requirement already satisfied: scipy>=1.3.3 in /opt/homebrew/Cellar/jupyterlab/4.0.8_1/libexec/lib/python3.12/site-packages (from pydy) (1.11.3)\n",
      "Requirement already satisfied: sympy>=1.5.1 in /opt/homebrew/Cellar/jupyterlab/4.0.8_1/libexec/lib/python3.12/site-packages (from pydy) (1.13.1)\n",
      "Requirement already satisfied: mpmath<1.4,>=1.1.0 in /opt/homebrew/Cellar/jupyterlab/4.0.8_1/libexec/lib/python3.12/site-packages (from sympy>=1.5.1->pydy) (1.3.0)\n",
      "\n",
      "\u001b[1m[\u001b[0m\u001b[34;49mnotice\u001b[0m\u001b[1;39;49m]\u001b[0m\u001b[39;49m A new release of pip is available: \u001b[0m\u001b[31;49m24.2\u001b[0m\u001b[39;49m -> \u001b[0m\u001b[32;49m25.1.1\u001b[0m\n",
      "\u001b[1m[\u001b[0m\u001b[34;49mnotice\u001b[0m\u001b[1;39;49m]\u001b[0m\u001b[39;49m To update, run: \u001b[0m\u001b[32;49m/opt/homebrew/Cellar/jupyterlab/4.0.8_1/libexec/bin/python -m pip install --upgrade pip\u001b[0m\n",
      "Note: you may need to restart the kernel to use updated packages.\n"
     ]
    }
   ],
   "source": [
    "pip install pydy"
   ]
  },
  {
   "cell_type": "code",
   "execution_count": 136,
   "id": "4cfebd57-3da3-4745-b36d-69953d11f4a2",
   "metadata": {},
   "outputs": [
    {
     "name": "stdout",
     "output_type": "stream",
     "text": [
      "Requirement already satisfied: cython in /opt/homebrew/Cellar/jupyterlab/4.0.8_1/libexec/lib/python3.12/site-packages (3.1.2)\n",
      "\n",
      "\u001b[1m[\u001b[0m\u001b[34;49mnotice\u001b[0m\u001b[1;39;49m]\u001b[0m\u001b[39;49m A new release of pip is available: \u001b[0m\u001b[31;49m24.2\u001b[0m\u001b[39;49m -> \u001b[0m\u001b[32;49m25.1.1\u001b[0m\n",
      "\u001b[1m[\u001b[0m\u001b[34;49mnotice\u001b[0m\u001b[1;39;49m]\u001b[0m\u001b[39;49m To update, run: \u001b[0m\u001b[32;49m/opt/homebrew/Cellar/jupyterlab/4.0.8_1/libexec/bin/python -m pip install --upgrade pip\u001b[0m\n",
      "Note: you may need to restart the kernel to use updated packages.\n"
     ]
    }
   ],
   "source": [
    "pip install cython "
   ]
  },
  {
   "cell_type": "code",
   "execution_count": 110,
   "id": "312c575c-913d-438d-8a81-59bb49513a9f",
   "metadata": {},
   "outputs": [],
   "source": [
    "import numpy as np"
   ]
  },
  {
   "cell_type": "markdown",
   "id": "ca49b475-6630-4316-a2dc-d997c58a5e23",
   "metadata": {},
   "source": [
    "# 1. Pydy.system "
   ]
  },
  {
   "cell_type": "code",
   "execution_count": 111,
   "id": "e2aa52b4-4525-4b0f-9bce-c54f7261bea2",
   "metadata": {},
   "outputs": [],
   "source": [
    "# The System class manages the simulation (integration) of a system whose equations are given by KanesMethod.\n",
    "# The simplest usage of this class is as follows. First, we need a KanesMethod object on which we have already invoked kanes_equations():\n",
    "# km = KanesMethod(...)\n",
    "# km.kanes_equations(force_list, body_list)\n",
    "# times = np.linspace(0, 5, 100)\n",
    "# sys = System(km, initial_conditions={dynamicsymbol('q1'): 0.5}, times=times)\n",
    "# sys.constants = {symbol('m'): 5.0}\n",
    "# sys.integrate()"
   ]
  },
  {
   "cell_type": "code",
   "execution_count": 112,
   "id": "2b72f580-abc8-410b-8f56-cf52b251dce8",
   "metadata": {},
   "outputs": [
    {
     "data": {
      "text/plain": [
       "(Matrix([[-c*v(t) + g*m - k*x(t) + F(t)]]), Matrix([[-m*Derivative(v(t), t)]]))"
      ]
     },
     "execution_count": 112,
     "metadata": {},
     "output_type": "execute_result"
    }
   ],
   "source": [
    "# this is an example using kanes_equations: \n",
    "from sympy.physics.mechanics import KanesMethod\n",
    "from sympy import symbols\n",
    "from pydy.system import System\n",
    "import sympy.physics.mechanics as me\n",
    "\n",
    "mass, stiffness, damping, gravity = symbols('m, k, c, g')\n",
    "\n",
    "position, speed = me.dynamicsymbols('x v')\n",
    "positiond = me.dynamicsymbols('x', 1)\n",
    "force = me.dynamicsymbols('F')\n",
    "\n",
    "ceiling = me.ReferenceFrame('N')\n",
    "\n",
    "origin = me.Point('origin')\n",
    "origin.set_vel(ceiling, 0)\n",
    "\n",
    "center = origin.locatenew('center', position * ceiling.x)\n",
    "center.set_vel(ceiling, speed * ceiling.x)\n",
    "\n",
    "block = me.Particle('block', center, mass)\n",
    "\n",
    "kinematic_equations = [speed - positiond]\n",
    "\n",
    "force_magnitude = mass * gravity - stiffness * position - damping * speed + force\n",
    "forces = [(center, force_magnitude * ceiling.x)]\n",
    "\n",
    "particles = [block]\n",
    "\n",
    "# Kanes method\n",
    "kane = me.KanesMethod(ceiling, q_ind=[position], u_ind=[speed],\n",
    "                      kd_eqs=kinematic_equations)\n",
    "kane.kanes_equations(particles, loads=forces)"
   ]
  },
  {
   "cell_type": "code",
   "execution_count": 113,
   "id": "955d2d46-35ae-4efd-93d9-a92b586eaadf",
   "metadata": {},
   "outputs": [
    {
     "data": {
      "text/plain": [
       "array([[ 0.        ,  0.        ],\n",
       "       [ 0.00125392,  0.04922994],\n",
       "       [ 0.00492985,  0.09591283],\n",
       "       [ 0.01089936,  0.14005802],\n",
       "       [ 0.01903466,  0.18168072],\n",
       "       [ 0.02920884,  0.22080163],\n",
       "       [ 0.04129617,  0.25744671],\n",
       "       [ 0.05517238,  0.29164674],\n",
       "       [ 0.07071486,  0.3234371 ],\n",
       "       [ 0.08780289,  0.3528574 ],\n",
       "       [ 0.10631785,  0.37995121],\n",
       "       [ 0.12614342,  0.40476573],\n",
       "       [ 0.14716575,  0.4273515 ],\n",
       "       [ 0.16927361,  0.44776213],\n",
       "       [ 0.19235857,  0.46605399],\n",
       "       [ 0.21631509,  0.48228593],\n",
       "       [ 0.24104067,  0.49651904],\n",
       "       [ 0.26643595,  0.50881636],\n",
       "       [ 0.29240477,  0.51924267],\n",
       "       [ 0.31885432,  0.52786417],\n",
       "       [ 0.34569514,  0.53474831],\n",
       "       [ 0.37284121,  0.53996355],\n",
       "       [ 0.40020998,  0.5435791 ],\n",
       "       [ 0.42772243,  0.54566476],\n",
       "       [ 0.45530306,  0.54629069],\n",
       "       [ 0.48287992,  0.54552723],\n",
       "       [ 0.51038462,  0.5434447 ],\n",
       "       [ 0.5377523 ,  0.54011326],\n",
       "       [ 0.56492166,  0.53560269],\n",
       "       [ 0.5918349 ,  0.52998228],\n",
       "       [ 0.6184377 ,  0.52332068],\n",
       "       [ 0.6446792 ,  0.51568572],\n",
       "       [ 0.67051192,  0.50714434],\n",
       "       [ 0.69589175,  0.49776242],\n",
       "       [ 0.72077789,  0.48760469],\n",
       "       [ 0.74513276,  0.47673461],\n",
       "       [ 0.76892196,  0.46521431],\n",
       "       [ 0.79211419,  0.45310446],\n",
       "       [ 0.81468116,  0.4404642 ],\n",
       "       [ 0.83659757,  0.42735111],\n",
       "       [ 0.85784093,  0.41382107],\n",
       "       [ 0.87839157,  0.39992827],\n",
       "       [ 0.89823251,  0.38572512],\n",
       "       [ 0.91734934,  0.37126224],\n",
       "       [ 0.93573019,  0.35658838],\n",
       "       [ 0.95336561,  0.34175042],\n",
       "       [ 0.97024844,  0.32679335],\n",
       "       [ 0.98637376,  0.31176023],\n",
       "       [ 1.00173879,  0.29669219],\n",
       "       [ 1.01634275,  0.28162842],\n",
       "       [ 1.03018681,  0.26660618],\n",
       "       [ 1.04327396,  0.25166078],\n",
       "       [ 1.05560894,  0.2368256 ],\n",
       "       [ 1.06719812,  0.22213211],\n",
       "       [ 1.0780494 ,  0.20760987],\n",
       "       [ 1.08817215,  0.19328656],\n",
       "       [ 1.09757708,  0.179188  ],\n",
       "       [ 1.10627614,  0.16533819],\n",
       "       [ 1.11428246,  0.15175931],\n",
       "       [ 1.12161026,  0.1384718 ],\n",
       "       [ 1.12827473,  0.12549435],\n",
       "       [ 1.13429196,  0.11284395],\n",
       "       [ 1.13967887,  0.10053597],\n",
       "       [ 1.14445311,  0.08858414],\n",
       "       [ 1.14863297,  0.07700066],\n",
       "       [ 1.15223733,  0.06579618],\n",
       "       [ 1.15528558,  0.0549799 ],\n",
       "       [ 1.15779752,  0.0445596 ],\n",
       "       [ 1.15979332,  0.0345417 ],\n",
       "       [ 1.16129344,  0.02493129],\n",
       "       [ 1.16231856,  0.01573219],\n",
       "       [ 1.16288952,  0.00694704],\n",
       "       [ 1.16302728, -0.00142271],\n",
       "       [ 1.16275281, -0.00937671],\n",
       "       [ 1.16208712, -0.01691565],\n",
       "       [ 1.16105112, -0.02404122],\n",
       "       [ 1.15966563, -0.03075607],\n",
       "       [ 1.1579513 , -0.03706371],\n",
       "       [ 1.1559286 , -0.04296853],\n",
       "       [ 1.15361774, -0.04847566],\n",
       "       [ 1.15103867, -0.05359102],\n",
       "       [ 1.14821099, -0.05832116],\n",
       "       [ 1.145154  , -0.0626733 ],\n",
       "       [ 1.14188659, -0.06665524],\n",
       "       [ 1.13842724, -0.07027529],\n",
       "       [ 1.13479402, -0.07354229],\n",
       "       [ 1.13100452, -0.07646549],\n",
       "       [ 1.12707586, -0.07905457],\n",
       "       [ 1.12302466, -0.08131952],\n",
       "       [ 1.11886704, -0.0832707 ],\n",
       "       [ 1.11461858, -0.08491869],\n",
       "       [ 1.11029432, -0.08627434],\n",
       "       [ 1.10590874, -0.08734866],\n",
       "       [ 1.10147577, -0.08815284],\n",
       "       [ 1.09700876, -0.08869819],\n",
       "       [ 1.09252052, -0.0889961 ],\n",
       "       [ 1.08802323, -0.08905802],\n",
       "       [ 1.08352853, -0.0888954 ],\n",
       "       [ 1.07904748, -0.08851973],\n",
       "       [ 1.07459054, -0.08794241]])"
      ]
     },
     "execution_count": 113,
     "metadata": {},
     "output_type": "execute_result"
    }
   ],
   "source": [
    "times = np.linspace(0, 5, 100) # 100 time steps from t=0 to t=5 seconds\n",
    "# Using pydy.system.System(eom_method, constants=None, specifieds=None, ode_solver=None, initial_conditions=None, times=None), please refer to\n",
    "# https://pydy.readthedocs.io/en/stable/system.html\n",
    "\n",
    "# Here, the eom_method is defined in the previous cell, known as \"kane\", all the other parameters are none \n",
    "# y0 = position, y1 = velocity, each row represents a time stamp\n",
    "sys = System(kane, times=times)\n",
    "y = sys.integrate()\n",
    "y"
   ]
  },
  {
   "cell_type": "code",
   "execution_count": 114,
   "id": "1d75651d-89dd-4caa-a520-1b4d85413873",
   "metadata": {},
   "outputs": [
    {
     "data": {
      "text/plain": [
       "array([0.        , 0.05050505, 0.1010101 , 0.15151515, 0.2020202 ,\n",
       "       0.25252525, 0.3030303 , 0.35353535, 0.4040404 , 0.45454545,\n",
       "       0.50505051, 0.55555556, 0.60606061, 0.65656566, 0.70707071,\n",
       "       0.75757576, 0.80808081, 0.85858586, 0.90909091, 0.95959596,\n",
       "       1.01010101, 1.06060606, 1.11111111, 1.16161616, 1.21212121,\n",
       "       1.26262626, 1.31313131, 1.36363636, 1.41414141, 1.46464646,\n",
       "       1.51515152, 1.56565657, 1.61616162, 1.66666667, 1.71717172,\n",
       "       1.76767677, 1.81818182, 1.86868687, 1.91919192, 1.96969697,\n",
       "       2.02020202, 2.07070707, 2.12121212, 2.17171717, 2.22222222,\n",
       "       2.27272727, 2.32323232, 2.37373737, 2.42424242, 2.47474747,\n",
       "       2.52525253, 2.57575758, 2.62626263, 2.67676768, 2.72727273,\n",
       "       2.77777778, 2.82828283, 2.87878788, 2.92929293, 2.97979798,\n",
       "       3.03030303, 3.08080808, 3.13131313, 3.18181818, 3.23232323,\n",
       "       3.28282828, 3.33333333, 3.38383838, 3.43434343, 3.48484848,\n",
       "       3.53535354, 3.58585859, 3.63636364, 3.68686869, 3.73737374,\n",
       "       3.78787879, 3.83838384, 3.88888889, 3.93939394, 3.98989899,\n",
       "       4.04040404, 4.09090909, 4.14141414, 4.19191919, 4.24242424,\n",
       "       4.29292929, 4.34343434, 4.39393939, 4.44444444, 4.49494949,\n",
       "       4.54545455, 4.5959596 , 4.64646465, 4.6969697 , 4.74747475,\n",
       "       4.7979798 , 4.84848485, 4.8989899 , 4.94949495, 5.        ])"
      ]
     },
     "execution_count": 114,
     "metadata": {},
     "output_type": "execute_result"
    }
   ],
   "source": [
    "# To double-check the constants, specifieds, states and times in your problem, look at these properties:\n",
    "sys.constants_symbols\n",
    "sys.specifieds_symbols\n",
    "sys.states\n",
    "sys.times"
   ]
  },
  {
   "cell_type": "code",
   "execution_count": 115,
   "id": "3d9c30ca-29e6-4a14-9d1c-f8aec012d9ae",
   "metadata": {},
   "outputs": [
    {
     "data": {
      "image/png": "[encoded data removed]",
      "text/plain": [
       "<Figure size 1000x500 with 1 Axes>"
      ]
     },
     "metadata": {},
     "output_type": "display_data"
    }
   ],
   "source": [
    "import matplotlib.pyplot as plt\n",
    "# Extract position and velocity\n",
    "position = y[:, 0]  # x(t)\n",
    "velocity = y[:, 1]  # v(t)\n",
    "\n",
    "# Create the plot\n",
    "plt.figure(figsize=(10, 5))\n",
    "plt.plot(times, position, label='Position (x)', color='blue')\n",
    "plt.plot(times, velocity, label='Velocity (v)', color='orange')\n",
    "\n",
    "# Label the plot\n",
    "plt.xlabel('Time [s]')\n",
    "plt.ylabel('Value')\n",
    "plt.title('Mass-Spring-Damper System Simulation')\n",
    "plt.legend()\n",
    "plt.grid(True)\n",
    "plt.show()\n"
   ]
  },
  {
   "cell_type": "markdown",
   "id": "8f7c6c46-7a31-4086-a6d7-d0507d7c6c5b",
   "metadata": {},
   "source": [
    "# 2. Pydy.models"
   ]
  },
  {
   "cell_type": "code",
   "execution_count": 116,
   "id": "02a42962-2a07-4eee-8c54-16536febde62",
   "metadata": {},
   "outputs": [
    {
     "data": {
      "text/plain": [
       "{c0, k0, m0}"
      ]
     },
     "execution_count": 116,
     "metadata": {},
     "output_type": "execute_result"
    }
   ],
   "source": [
    "# The pydy.models file provides canned symbolic models of classical dynamic systems that are mostly for testing and example purposes. There are currently two models:\n",
    "\n",
    "# multi_mass_spring_damper():\n",
    "# A one dimensional series of masses connected by linear dampers and springs that can optionally be under the influence of gravity and an arbitrary force.\n",
    "\n",
    "# n_link_pendulum_on_cart()\n",
    "# This is an extension to the classic two dimensional inverted pendulum on a cart to multiple links. You can optionally apply an arbitrary lateral force to the cart and/or apply arbitrary torques between each link.\n",
    "\n",
    "# Example:\n",
    "\n",
    "from pydy.models import multi_mass_spring_damper\n",
    "sys = multi_mass_spring_damper()\n",
    "sys.constants_symbols"
   ]
  },
  {
   "cell_type": "code",
   "execution_count": 117,
   "id": "40e8fc45-8d0e-4e24-93b2-e1dba2461852",
   "metadata": {},
   "outputs": [
    {
     "data": {
      "text/plain": [
       "[x0(t)]"
      ]
     },
     "execution_count": 117,
     "metadata": {},
     "output_type": "execute_result"
    }
   ],
   "source": [
    "sys.coordinates"
   ]
  },
  {
   "cell_type": "code",
   "execution_count": 118,
   "id": "a6aabefe-7f78-4d5d-a995-ff21005c0e17",
   "metadata": {},
   "outputs": [
    {
     "data": {
      "text/plain": [
       "[v0(t)]"
      ]
     },
     "execution_count": 118,
     "metadata": {},
     "output_type": "execute_result"
    }
   ],
   "source": [
    "sys.speeds"
   ]
  },
  {
   "cell_type": "code",
   "execution_count": 119,
   "id": "5149250d-3b2a-4f26-ba1e-9a2daed89564",
   "metadata": {},
   "outputs": [
    {
     "data": {
      "text/latex": [
       "$\\displaystyle \\left[\\begin{matrix}v_{0}{\\left(t \\right)}\\\\\\frac{- c_{0} v_{0}{\\left(t \\right)} - k_{0} x_{0}{\\left(t \\right)}}{m_{0}}\\end{matrix}\\right]$"
      ],
      "text/plain": [
       "Matrix([\n",
       "[                    v0(t)],\n",
       "[(-c0*v0(t) - k0*x0(t))/m0]])"
      ]
     },
     "execution_count": 119,
     "metadata": {},
     "output_type": "execute_result"
    }
   ],
   "source": [
    "sys.eom_method.rhs()"
   ]
  },
  {
   "cell_type": "code",
   "execution_count": 120,
   "id": "e69dad1d-8cbf-4961-bbe1-c60f6814e9c5",
   "metadata": {},
   "outputs": [
    {
     "data": {
      "text/plain": [
       "{c0, c1, g, k0, k1, m0, m1}"
      ]
     },
     "execution_count": 120,
     "metadata": {},
     "output_type": "execute_result"
    }
   ],
   "source": [
    "# A two degree of freedom mass spring damper system under the influence of gravity and two external forces can be created with:\n",
    "sys = multi_mass_spring_damper(2, True, True)\n",
    "sys.constants_symbols"
   ]
  },
  {
   "cell_type": "code",
   "execution_count": 121,
   "id": "018504e2-5e2f-4bfa-8e6f-0007188931fc",
   "metadata": {},
   "outputs": [
    {
     "data": {
      "text/plain": [
       "[x0(t), x1(t)]"
      ]
     },
     "execution_count": 121,
     "metadata": {},
     "output_type": "execute_result"
    }
   ],
   "source": [
    "sys.coordinates"
   ]
  },
  {
   "cell_type": "code",
   "execution_count": 122,
   "id": "fd8dbd57-3716-4906-a0c7-4efee6ff1f4e",
   "metadata": {},
   "outputs": [
    {
     "data": {
      "text/plain": [
       "[v0(t), v1(t)]"
      ]
     },
     "execution_count": 122,
     "metadata": {},
     "output_type": "execute_result"
    }
   ],
   "source": [
    "sys.speeds"
   ]
  },
  {
   "cell_type": "code",
   "execution_count": 123,
   "id": "292f963e-c54e-46f4-9089-9394308bf06b",
   "metadata": {},
   "outputs": [
    {
     "data": {
      "text/plain": [
       "{f0(t), f1(t)}"
      ]
     },
     "execution_count": 123,
     "metadata": {},
     "output_type": "execute_result"
    }
   ],
   "source": [
    "sys.specifieds_symbols"
   ]
  },
  {
   "cell_type": "code",
   "execution_count": 124,
   "id": "c7b73ff6-cc06-4e84-bf2f-95cbbc0c3ead",
   "metadata": {},
   "outputs": [],
   "source": [
    "import sympy as sm"
   ]
  },
  {
   "cell_type": "code",
   "execution_count": 125,
   "id": "0daabd29-477f-4f32-971e-96d77b0327bf",
   "metadata": {},
   "outputs": [
    {
     "data": {
      "text/latex": [
       "$\\displaystyle \\left[\\begin{matrix}v_{0}{\\left(t \\right)}\\\\v_{1}{\\left(t \\right)}\\\\\\frac{- c_{0} v_{0}{\\left(t \\right)} + c_{1} v_{1}{\\left(t \\right)} + g m_{0} - k_{0} x_{0}{\\left(t \\right)} + k_{1} x_{1}{\\left(t \\right)} + f_{0}{\\left(t \\right)}}{m_{0}}\\\\- \\frac{m_{1} \\left(- c_{0} v_{0}{\\left(t \\right)} + g m_{0} + g m_{1} - k_{0} x_{0}{\\left(t \\right)} + f_{0}{\\left(t \\right)} + f_{1}{\\left(t \\right)}\\right) + \\left(m_{0} + m_{1}\\right) \\left(c_{1} v_{1}{\\left(t \\right)} - g m_{1} + k_{1} x_{1}{\\left(t \\right)} - f_{1}{\\left(t \\right)}\\right)}{m_{0} m_{1}}\\end{matrix}\\right]$"
      ],
      "text/plain": [
       "Matrix([\n",
       "[                                                                                                              v0(t)],\n",
       "[                                                                                                              v1(t)],\n",
       "[                                                     (-c0*v0(t) + c1*v1(t) + g*m0 - k0*x0(t) + k1*x1(t) + f0(t))/m0],\n",
       "[-(m1*(-c0*v0(t) + g*m0 + g*m1 - k0*x0(t) + f0(t) + f1(t)) + (m0 + m1)*(c1*v1(t) - g*m1 + k1*x1(t) - f1(t)))/(m0*m1)]])"
      ]
     },
     "execution_count": 125,
     "metadata": {},
     "output_type": "execute_result"
    }
   ],
   "source": [
    "sm.simplify(sys.eom_method.rhs())"
   ]
  },
  {
   "cell_type": "markdown",
   "id": "aaabdc45-511e-4117-a1ff-8209b4cecb32",
   "metadata": {},
   "source": [
    "## API"
   ]
  },
  {
   "cell_type": "code",
   "execution_count": 126,
   "id": "b2fd1978-c7f0-4e1d-a9a2-4ba868de7ee7",
   "metadata": {},
   "outputs": [
    {
     "data": {
      "text/plain": [
       "'Parameters\\nn: integer\\nThe number of masses in the serial chain.\\n\\napply_gravity:boolean\\nIf true, gravity will be applied to each mass.\\n\\napply_external_forces:boolean\\nIf true, a time varying external force will be applied to each mass.\\n\\nReturns\\nsystem: pydy.system.System\\nA system constructed from the KanesMethod object.'"
      ]
     },
     "execution_count": 126,
     "metadata": {},
     "output_type": "execute_result"
    }
   ],
   "source": [
    "# This module contains some sample symbolic models used for testing and examples.\n",
    "import pydy\n",
    "# Returns a system containing the symbolic equations of motion and associated variables for a simple mutli-degree of freedom point mass, spring, damper system with optional gravitational and external specified forces\n",
    "\n",
    "pydy.models.multi_mass_spring_damper(n=1, apply_gravity=False, apply_external_forces=False)\n",
    "'''Parameters\n",
    "n: integer\n",
    "The number of masses in the serial chain.\n",
    "\n",
    "apply_gravity:boolean\n",
    "If true, gravity will be applied to each mass.\n",
    "\n",
    "apply_external_forces:boolean\n",
    "If true, a time varying external force will be applied to each mass.\n",
    "\n",
    "Returns\n",
    "system: pydy.system.System\n",
    "A system constructed from the KanesMethod object.'''\n"
   ]
  },
  {
   "cell_type": "code",
   "execution_count": 127,
   "id": "2567208b-ba51-48f8-bcda-78069eed1da9",
   "metadata": {},
   "outputs": [
    {
     "data": {
      "image/png": "[encoded data removed]",
      "text/plain": [
       "<Figure size 1000x500 with 1 Axes>"
      ]
     },
     "metadata": {},
     "output_type": "display_data"
    }
   ],
   "source": [
    "# example of using this model\n",
    "from pydy.models import multi_mass_spring_damper\n",
    "from pydy.system import System\n",
    "import numpy as np\n",
    "import matplotlib.pyplot as plt\n",
    "\n",
    "# Create the symbolic model\n",
    "sys = multi_mass_spring_damper(n=1, apply_gravity=False, apply_external_forces=False)\n",
    "\n",
    "# Set numerical parameters\n",
    "sym_dict = {str(s): s for s in sys.constants_symbols}\n",
    "sys.constants = {\n",
    "    sym_dict['m0']: 1.0,\n",
    "    sym_dict['k0']: 10.0,\n",
    "    sym_dict['c0']: 0.5\n",
    "}\n",
    "\n",
    "# Initial conditions\n",
    "sys.initial_conditions = {\n",
    "    sys.coordinates[0]: 1.0,  # Initial displacement\n",
    "    sys.speeds[0]: 0.0        # Initial velocity\n",
    "}\n",
    "\n",
    "# Set the time vector for the simulation\n",
    "sys.times = np.linspace(0, 10, 1000)\n",
    "\n",
    "# Run the simulation\n",
    "x = sys.integrate()\n",
    "\n",
    "# x is a NumPy array of shape (1000, 2) for 1 mass\n",
    "# x[:, 0] = position, x[:, 1] = velocity\n",
    "\n",
    "# Plot the results\n",
    "plt.figure(figsize=(10, 5))\n",
    "plt.plot(sys.times, x[:, 0], label='Position (x)', color='blue')\n",
    "plt.plot(sys.times, x[:, 1], label='Velocity (v)', color='orange')\n",
    "plt.xlabel('Time [s]')\n",
    "plt.ylabel('Value')\n",
    "plt.title('Mass-Spring-Damper System Simulation (n=1)')\n",
    "plt.legend()\n",
    "plt.grid(True)\n",
    "plt.show()\n",
    "\n"
   ]
  },
  {
   "cell_type": "markdown",
   "id": "a9b28982-db26-4993-b22a-5b80fe6a519c",
   "metadata": {},
   "source": [
    "# 3. Pydy.codegen"
   ]
  },
  {
   "cell_type": "code",
   "execution_count": 128,
   "id": "32d09936-0b90-42a9-8029-2b9cde3785d7",
   "metadata": {},
   "outputs": [
    {
     "data": {
      "text/plain": [
       "'lambdify\\nThis generates NumPy-aware Python code which is defined in a Python lambda function, using the sympy.utilities.lambdify module and is the default generator.\\n\\nTheano\\nThis generates Theano trees that are compiled into low level code, using the sympy.printers.theano_code module.\\n\\nCython\\nThis generates C code that can be called from Python, using SymPy’s C code printer utilities and Cython.'"
      ]
     },
     "execution_count": 128,
     "metadata": {},
     "output_type": "execute_result"
    }
   ],
   "source": [
    "# The pydy.codegen package contains various tools to generate numerical code from symbolic descriptions of the equations of motion of systems. It allows you to generate code using a variety of backends depending on your needs. The generated code can also be auto-wrapped for immediate use in a Python session or script. Each component of the code generators and wrappers are accessible so that you can use just the raw code or the wrapper versions.\n",
    "\n",
    "# We currently support three backends:\n",
    "\n",
    "'''lambdify\n",
    "This generates NumPy-aware Python code which is defined in a Python lambda function, using the sympy.utilities.lambdify module and is the default generator.\n",
    "\n",
    "Theano\n",
    "This generates Theano trees that are compiled into low level code, using the sympy.printers.theano_code module.\n",
    "\n",
    "Cython\n",
    "This generates C code that can be called from Python, using SymPy’s C code printer utilities and Cython.'''"
   ]
  },
  {
   "cell_type": "markdown",
   "id": "48383fcc-a04a-4782-93e6-895ad9049f70",
   "metadata": {},
   "source": [
    "## sys.generate_ode_function()"
   ]
  },
  {
   "cell_type": "code",
   "execution_count": 129,
   "id": "b6b4f902-11ca-4749-bf3c-f29f7c0c7519",
   "metadata": {},
   "outputs": [
    {
     "data": {
      "text/plain": [
       "array([ 2., -8.])"
      ]
     },
     "execution_count": 129,
     "metadata": {},
     "output_type": "execute_result"
    }
   ],
   "source": [
    "# The simplest entry point to the code generation tools is through the System class for generagting ode function: \n",
    "from pydy.models import multi_mass_spring_damper\n",
    "sys = multi_mass_spring_damper()\n",
    "rhs = sys.generate_ode_function()\n",
    "import numpy as np\n",
    "rhs(np.array([1.0, 2.0]), 0.0, np.array([1.0, 2.0, 3.0]))"
   ]
  },
  {
   "cell_type": "markdown",
   "id": "714cd298-eb46-47bf-95bc-5b6cf948e8cd",
   "metadata": {},
   "source": [
    "## from pydy.codegen.ode_function_generators import generate_ode_function"
   ]
  },
  {
   "cell_type": "code",
   "execution_count": 130,
   "id": "747175e8-42c5-41ec-8a72-d787c159960e",
   "metadata": {},
   "outputs": [
    {
     "data": {
      "text/plain": [
       "array([ 2., -8.])"
      ]
     },
     "execution_count": 130,
     "metadata": {},
     "output_type": "execute_result"
    }
   ],
   "source": [
    "#You can also use the functional interface to the code generation/wrapper classes:\n",
    "from numpy import array\n",
    "from pydy.models import multi_mass_spring_damper\n",
    "# codegen \n",
    "from pydy.codegen.ode_function_generators import generate_ode_function\n",
    "sys = multi_mass_spring_damper()\n",
    "sym_rhs = sys.eom_method.rhs()\n",
    "q = sys.coordinates\n",
    "u = sys.speeds\n",
    "p = sys.constants_symbols\n",
    "rhs = generate_ode_function(sym_rhs, q, u, p)\n",
    "rhs(array([1.0, 2.0]), 0.0, array([1.0, 2.0, 3.0]))"
   ]
  },
  {
   "cell_type": "markdown",
   "id": "951f7ecf-c34b-42bc-9351-65a3c40c7573",
   "metadata": {},
   "source": [
    "## LambdifyODEFunctionGenerator"
   ]
  },
  {
   "cell_type": "code",
   "execution_count": 144,
   "id": "9fe2efaf-ffeb-4fae-b1c0-c85bedb0475f",
   "metadata": {},
   "outputs": [
    {
     "data": {
      "text/plain": [
       "array([ 2., -8.])"
      ]
     },
     "execution_count": 144,
     "metadata": {},
     "output_type": "execute_result"
    }
   ],
   "source": [
    "# The backends are implemented as subclasses of ODEFunctionGenerator. You can make use of the ODEFunctionGenerator classes directly:\n",
    "from pydy.codegen.ode_function_generators import LambdifyODEFunctionGenerator\n",
    "g = LambdifyODEFunctionGenerator(sym_rhs, q, u, p)\n",
    "rhs = g.generate()\n",
    "rhs(array([1.0, 2.0]), 0.0, array([1.0, 2.0, 3.0]))\n"
   ]
  },
  {
   "cell_type": "markdown",
   "id": "556833fc-046a-4d96-a793-1ab93bcfb52d",
   "metadata": {},
   "source": [
    "## CythonMatrixGenerator"
   ]
  },
  {
   "cell_type": "code",
   "execution_count": 145,
   "id": "96bdb2ff-d01b-4222-87bf-6154332c099b",
   "metadata": {},
   "outputs": [
    {
     "name": "stdout",
     "output_type": "stream",
     "text": [
      "#!/usr/bin/env python\n",
      "\n",
      "from setuptools import setup\n",
      "from setuptools import Extension\n",
      "\n",
      "from Cython.Build import cythonize\n",
      "import numpy\n",
      "\n",
      "extension = Extension(name=\"pydy_codegen\",\n",
      "                      sources=[\"pydy_codegen.pyx\",\n",
      "                               \"pydy_codegen_c.c\"],\n",
      "                      include_dirs=[numpy.get_include()])\n",
      "\n",
      "setup(name=\"pydy_codegen\",\n",
      "      ext_modules=cythonize([extension]))\n"
     ]
    }
   ],
   "source": [
    "# Furthermore, for direct control over evaluating matrices you can use the lamdify and theano_functions in SymPy or utilize the CythonMatrixGenerator class in PyDy. \n",
    "# For example, this shows you how to generate C and Cython code to evaluate matrices:\n",
    "from pydy.codegen.cython_code import CythonMatrixGenerator\n",
    "sys = multi_mass_spring_damper()\n",
    "q = sys.coordinates\n",
    "u = sys.speeds\n",
    "p = sys.constants_symbols\n",
    "sym_rhs = sys.eom_method.rhs()\n",
    "g = CythonMatrixGenerator([q, u, p], [sym_rhs])\n",
    "setup_py, cython_src, c_header, c_src = g.doprint()\n",
    "print(setup_py)"
   ]
  },
  {
   "cell_type": "code",
   "execution_count": 146,
   "id": "1d265d44-6349-4585-87b6-71434e03f1c6",
   "metadata": {},
   "outputs": [
    {
     "name": "stdout",
     "output_type": "stream",
     "text": [
      "import numpy as np\n",
      "cimport numpy as np\n",
      "cimport cython\n",
      "\n",
      "cdef extern from \"pydy_codegen_c.h\":\n",
      "    void evaluate(\n",
      "                  double* input_0,\n",
      "                  double* input_1,\n",
      "                  double* input_2,\n",
      "                  double* output_0\n",
      "                 )\n",
      "\n",
      "@cython.boundscheck(False)\n",
      "@cython.wraparound(False)\n",
      "def eval(\n",
      "         np.ndarray[np.double_t, ndim=1, mode='c'] input_0,\n",
      "         np.ndarray[np.double_t, ndim=1, mode='c'] input_1,\n",
      "         np.ndarray[np.double_t, ndim=1, mode='c'] input_2,\n",
      "         np.ndarray[np.double_t, ndim=1, mode='c'] output_0\n",
      "        ):\n",
      "\n",
      "    evaluate(\n",
      "             <double*> input_0.data,\n",
      "             <double*> input_1.data,\n",
      "             <double*> input_2.data,\n",
      "             <double*> output_0.data\n",
      "            )\n",
      "\n",
      "    return (\n",
      "            output_0\n",
      "           )\n"
     ]
    }
   ],
   "source": [
    "print(cython_src)"
   ]
  },
  {
   "cell_type": "code",
   "execution_count": 147,
   "id": "0038a6e3-baa5-4361-86b8-8c10d24e0d58",
   "metadata": {},
   "outputs": [
    {
     "name": "stdout",
     "output_type": "stream",
     "text": [
      "#include <math.h>\n",
      "#include \"pydy_codegen_c.h\"\n",
      "\n",
      "void evaluate(\n",
      "              double input_0[1],\n",
      "              double input_1[1],\n",
      "              double input_2[3],\n",
      "              double output_0[2]\n",
      "             )\n",
      "{\n",
      "\n",
      "    double pydy_0 = input_1[0];\n",
      "\n",
      "    output_0[0] = pydy_0;\n",
      "    output_0[1] = (-input_2[2] * pydy_0 - input_2[1] * input_0[0])/input_2[0];\n",
      "\n",
      "}\n"
     ]
    }
   ],
   "source": [
    "print(c_src)"
   ]
  },
  {
   "cell_type": "code",
   "execution_count": 148,
   "id": "9253dd28-88d2-4c4a-8a31-3a53f9ab4d64",
   "metadata": {},
   "outputs": [
    {
     "name": "stdout",
     "output_type": "stream",
     "text": [
      "void evaluate(\n",
      "              double input_0[1],\n",
      "              double input_1[1],\n",
      "              double input_2[3],\n",
      "              double output_0[2]\n",
      "             );\n",
      "/*\n",
      "\n",
      "input_0[1] : [x0(t)]\n",
      "input_1[1] : [v0(t)]\n",
      "input_2[3] : [m0, k0, c0]\n",
      "\n",
      "*/\n"
     ]
    }
   ],
   "source": [
    "print(c_header)"
   ]
  },
  {
   "cell_type": "code",
   "execution_count": 149,
   "id": "9a5632f0-fa92-4100-b45d-cd0c12b3080c",
   "metadata": {},
   "outputs": [
    {
     "data": {
      "text/plain": [
       "array([ 2., -8.])"
      ]
     },
     "execution_count": 149,
     "metadata": {},
     "output_type": "execute_result"
    }
   ],
   "source": [
    "rhs = g.compile()\n",
    "res = array([0.0, 0.0])\n",
    "rhs(array([1.0]), array([2.0]), array([1.0, 2.0, 3.0]), res)"
   ]
  },
  {
   "cell_type": "markdown",
   "id": "46e0e6c4-09d5-45e5-98a1-ea0880ea5349",
   "metadata": {},
   "source": [
    "## generating Octave/Matlab code"
   ]
  },
  {
   "cell_type": "code",
   "execution_count": 150,
   "id": "02ab5a5d-90bc-4a06-8154-7b68b27aacdd",
   "metadata": {},
   "outputs": [
    {
     "name": "stdout",
     "output_type": "stream",
     "text": [
      "function [output_1] = eval_mats(input_1, input_2)\n",
      "% function [output_1] = eval_mats(input_1, input_2)\n",
      "%\n",
      "% input_1 : [x0(t), v0(t)]\n",
      "% input_2 : [m0, k0, c0]\n",
      "\n",
      "    pydy_0 = input_1(2);\n",
      "\n",
      "    output_1 = [pydy_0; (-input_2(3).*pydy_0 - ...\n",
      "    input_2(2).*input_1(1))./input_2(1)];\n",
      "\n",
      "end\n",
      "\n"
     ]
    }
   ],
   "source": [
    "# We also support generating Octave/Matlab code as shown below:\n",
    "from pydy.codegen.octave_code import OctaveMatrixGenerator\n",
    "sys = multi_mass_spring_damper()\n",
    "q = sys.coordinates\n",
    "u = sys.speeds\n",
    "p = sys.constants_symbols\n",
    "sym_rhs = sys.eom_method.rhs()\n",
    "g = OctaveMatrixGenerator([q + u, p], [sym_rhs])\n",
    "m_src = g.doprint()\n",
    "print(m_src)"
   ]
  },
  {
   "cell_type": "markdown",
   "id": "e761f7aa-78ab-48fc-a652-a59d29616e32",
   "metadata": {},
   "source": [
    "## API\n",
    "# https://pydy.readthedocs.io/en/stable/codegen.html"
   ]
  },
  {
   "cell_type": "code",
   "execution_count": null,
   "id": "879914ad-4dbd-40aa-970a-40b5c5346367",
   "metadata": {},
   "outputs": [],
   "source": [
    "#This module contains source code dedicated to generating C code from matrices generated from sympy.physics.mechanics."
   ]
  },
  {
   "cell_type": "code",
   "execution_count": null,
   "id": "badde3e0-dcb2-4881-8ef0-9ab339e12b5b",
   "metadata": {},
   "outputs": [],
   "source": [
    "# classpydy.codegen.c_code.CMatrixGenerator(arguments, matrices, cse=True)\n",
    "# This class generates C source files that simultaneously numerically evaluate any number of SymPy matrices.\n",
    "'''\n",
    "doprint(prefix=None)[source]¶\n",
    "    Returns a string each for the header and the source files.\n",
    "        Parameters\n",
    "        prefixstring, optional\n",
    "        A prefix for the name of the header file. This will cause an include statement to to be added to the source.\n",
    "\n",
    "write(prefix, path=None)[source]¶\n",
    "    Writes a header and source file to disk.\n",
    "        Parameters\n",
    "        prefixstring\n",
    "        Two files will be generated: <prefix>.c and <prefix>.h.\n",
    "    '''"
   ]
  },
  {
   "cell_type": "code",
   "execution_count": null,
   "id": "50d36262-53c6-410c-9639-81fd229b3d4a",
   "metadata": {},
   "outputs": [],
   "source": [
    "# classpydy.codegen.cython_code.CythonMatrixGenerator(arguments, matrices, prefix='pydy_codegen', cse=True)[source]¶\n",
    "# This class generates the Cython code for evaluating a sequence of matrices. It can compile the code and return a Python function.\n",
    "'''\n",
    "__init__(arguments, matrices, prefix='pydy_codegen', cse=True)[source]¶\n",
    "    Parameters\n",
    "        argumentssequences of sequences of SymPy Symbol or Function.\n",
    "        Each of the sequences will be converted to input arrays in the Cython function. All of the symbols/functions contained in matrices need to be in the sequences, but the sequences can also contain extra symbols/functions that are not contained in the matrices.\n",
    "\n",
    "        matrices:sequence of SymPy.Matrix\n",
    "        A sequence of the matrices that should be evaluated in the function. The expressions should contain only sympy.Symbol or sympy.Function that are functions of me.dynamicsymbols._t.\n",
    "        \n",
    "        prefixs:tring, optional\n",
    "        The desired prefix for the generated files.\n",
    "        \n",
    "        cse:boolean\n",
    "        Find and replace common sub-expressions in matrices if True.\n",
    "\n",
    "compile(tmp_dir=None, verbose=False)[source]¶\n",
    "    Returns a function which evaluates the matrices.\n",
    "\n",
    "    Parameters\n",
    "        tmp_dir:string\n",
    "        The path to an existing or non-existing directory where all of the generated files will be stored.\n",
    "\n",
    "        verbose:boolean\n",
    "        If true the output of the completed compilation steps will be printed.\n",
    "\n",
    "doprint()[source]¶\n",
    "    Returns the text of the four source files needed to compile Cython wrapper that evaluates the provided SymPy matrices.\n",
    "\n",
    "    Returns\n",
    "        setup_py:string\n",
    "        The text of the setup.py file used to compile the Cython extension.\n",
    "        \n",
    "        cython_source:string\n",
    "        The text of the Cython pyx file which includes the wrapper function eval.\n",
    "        \n",
    "        c_header:string\n",
    "        The text of the C header file that exposes the evaluate function.\n",
    "        \n",
    "        c_source:string\n",
    "        The text of the C source file containing the function that evaluates the matrices.\n",
    "        \n",
    "write(path=None)[source]¶\n",
    "    Writes the four source files needed to compile the Cython function to the current working directory.\n",
    "\n",
    "    Parameters\n",
    "    path:string\n",
    "    The absolute or relative path to an existing directory to place the files instead of the cwd.\n",
    "\n",
    "'''"
   ]
  },
  {
   "cell_type": "code",
   "execution_count": null,
   "id": "f09f6e5d-7c34-4999-98a3-430cd7207716",
   "metadata": {},
   "outputs": [],
   "source": [
    "# classpydy.codegen.matrix_generator.MatrixGenerator(arguments, matrices, cse=True)[source]¶\n",
    "# This abstract base class generates source files that simultaneously numerically evaluate any number of SymPy matrices.\n",
    "'''\n",
    "__init__(arguments, matrices, cse=True)[source]¶\n",
    "    Parameters\n",
    "        argumentssequence of sequences of SymPy Symbol or Function\n",
    "        Each of the sequences will be converted to input arrays in the generated function. All of the symbols/functions contained in matrices need to be in the sequences, but the sequences can also contain extra symbols/functions that are not contained in the matrices.\n",
    "\n",
    "        matrices:sequence of SymPy.Matrix\n",
    "        A sequence of the matrices that should be evaluated in the function. The expressions should contain only sympy.Symbol or sympy.Function that are functions of me.dynamicsymbols._t.\n",
    "        \n",
    "        cse:boolean\n",
    "        Find and replace common sub-expressions in matrices if True.\n",
    "\n",
    "comma_lists()[source]¶\n",
    "    Returns a string output for each of the sequences of SymPy arguments.\n",
    "'''"
   ]
  },
  {
   "cell_type": "code",
   "execution_count": null,
   "id": "83c2ad77-67d6-46c1-96b5-736dfc2b024a",
   "metadata": {},
   "outputs": [],
   "source": [
    "#classpydy.codegen.octave_code.OctaveMatrixGenerator(arguments, matrices, cse=True)[source]¶\n",
    "# This class generates Octave/Matlab source files that simultaneously numerically evaluate any number of SymPy matrices.\n",
    "'''\n",
    "doprint(prefix='eval_mats')[source]¶\n",
    "    Returns a string that implements the function.\n",
    "\n",
    "    Parameters\n",
    "        prefix:string, optional\n",
    "        The name of the Octave/Matlab function.\n",
    "\n",
    "write(prefix='eval_mats', path=None)[source]¶\n",
    "    Writes the <prefix>.m file to disc at the give path location'''\n"
   ]
  },
  {
   "cell_type": "code",
   "execution_count": null,
   "id": "05d77efd-7e64-40c9-907c-92cd8abf5693",
   "metadata": {},
   "outputs": [],
   "source": [
    "# classpydy.codegen.ode_function_generators.CythonODEFunctionGenerator(*args, **kwargs)[source]¶\n",
    "'''\n",
    "__init__(*args, **kwargs)[source]¶\n",
    "Generates a numerical function which can evaluate the right hand side of the first order ordinary differential equations from a system described by one of the following three symbolic forms:\n",
    "\n",
    "[1] x’ = F(x, t, r, p)\n",
    "\n",
    "[2] M(x, p) x’ = F(x, t, r, p)\n",
    "\n",
    "[3] M(q, p) u’ = F(q, u, t, r, p)\n",
    "q’ = G(q, u, t, r, p)\n",
    "\n",
    "where\n",
    "\n",
    "x : states, i.e. [q, u] t : time r : specified (exogenous) inputs p : constants q : generalized coordinates u : generalized speeds M : mass matrix (full or minimum) F : right hand side (full or minimum) G : right hand side of the kinematical differential equations\n",
    "\n",
    "The generated function is of the form F(x, t, p) or F(x, t, r, p) depending on whether the system has specified inputs or not.\n",
    "\n",
    "Parameters\n",
    "\n",
    "right_hand_side:SymPy Matrix, shape(n, 1)\n",
    "    A column vector containing the symbolic expressions for the right hand side of the ordinary differential equations. \n",
    "    If the right hand side has been solved for symbolically then only F is required, see form [1]; \n",
    "    if not then the mass matrix must also be supplied, see forms [2, 3].\n",
    "\n",
    "coordinates:sequence of SymPy Functions\n",
    "    The generalized coordinates. These must be ordered in the same order as the rows in M, F, and/or G and be functions of time.\n",
    "\n",
    "speeds:sequence of SymPy Functions\n",
    "    The generalized speeds. These must be ordered in the same order as the rows in M, F, and/or G and be functions of time.\n",
    "\n",
    "constants:sequence of SymPy Symbols, optional\n",
    "    All of the constants present in the equations of motion. The order does not matter.\n",
    "\n",
    "mass_matrix:sympy.Matrix, shape(n, n), optional\n",
    "    This can be either the “full” mass matrix as in [2] or the “minimal” mass matrix as in [3].\n",
    "    The rows and columns must be ordered to match the order of the coordinates and speeds. \n",
    "    In the case of the full mass matrix, the speeds should always be ordered before the speeds, i.e. x = [q, u].\n",
    "\n",
    "coordinate_derivatives:sympy.Matrix, shape(m, 1), optional\n",
    "    If the “minimal” mass matrix, form [3], is supplied, then this column vector represents the right hand side of the kinematical differential equations.\n",
    "\n",
    "specifieds:sequence of SymPy Functions\n",
    "    The specified exogenous inputs to the system. These should be functions of time and the order does not matter.\n",
    "\n",
    "linear_sys_solver:string or function\n",
    "    Specify either numpy or scipy to use the linear solvers provided in each package or supply a function that solves a linear system Ax=b with the call signature x = solve(A, b). For example, if you need to use custom kwargs for the SciPy solver, pass in a lambda function that wraps the solver and sets them.\n",
    "\n",
    "constants_arg_type:string\n",
    "    The generated function accepts two different types of arguments for the numerical values of the constants: either a ndarray of the constants values in the correct order or a dictionary mapping the constants symbols to the numerical values. If None, this is determined inside of the generated function and can cause a significant slow down for performance critical code. If you know apriori what arg types you need to support choose either array or dictionary. Note that array is faster than dictionary.\n",
    "\n",
    "specifieds_arg_type:string\n",
    "    The generated function accepts three different types of arguments for the numerical values of the specifieds: either a ndarray of the specifieds values in the correct order, a function that generates the correctly ordered ndarray, or a dictionary mapping the specifieds symbols or tuples of thereof to floats, ndarrays, or functions. If None, this is determined inside of the generated function and can cause a significant slow down for performance critical code. If you know apriori what arg types you want to support choose either array, function, or dictionary. The speed of each, from fast to slow, are array, function, dictionary, None.\n",
    "'''"
   ]
  },
  {
   "cell_type": "code",
   "execution_count": null,
   "id": "9ced6545-a724-49af-a1c5-ea664161f799",
   "metadata": {},
   "outputs": [],
   "source": [
    "# classpydy.codegen.ode_function_generators.LambdifyODEFunctionGenerator(*args, **kwargs)[source]¶\n",
    "'''\n",
    "__init__(*args, **kwargs)[source]¶\n",
    "Generates a numerical function which can evaluate the right hand side of the first order ordinary differential equations from a system described by one of the following three symbolic forms:\n",
    "\n",
    "[1] x’ = F(x, t, r, p)\n",
    "\n",
    "[2] M(x, p) x’ = F(x, t, r, p)\n",
    "\n",
    "[3] M(q, p) u’ = F(q, u, t, r, p)\n",
    "q’ = G(q, u, t, r, p)\n",
    "\n",
    "where\n",
    "\n",
    "x : states, i.e. [q, u] t : time r : specified (exogenous) inputs p : constants q : generalized coordinates u : generalized speeds M : mass matrix (full or minimum) F : right hand side (full or minimum) G : right hand side of the kinematical differential equations\n",
    "\n",
    "The generated function is of the form F(x, t, p) or F(x, t, r, p) depending on whether the system has specified inputs or not.\n",
    "\n",
    "Parameters\n",
    "right_hand_side:SymPy Matrix, shape(n, 1)\n",
    "A column vector containing the symbolic expressions for the right hand side of the ordinary differential equations. If the right hand side has been solved for symbolically then only F is required, see form [1]; if not then the mass matrix must also be supplied, see forms [2, 3].\n",
    "\n",
    "coordinates:sequence of SymPy Functions\n",
    "The generalized coordinates. These must be ordered in the same order as the rows in M, F, and/or G and be functions of time.\n",
    "\n",
    "speeds:sequence of SymPy Functions\n",
    "The generalized speeds. These must be ordered in the same order as the rows in M, F, and/or G and be functions of time.\n",
    "\n",
    "constants:sequence of SymPy Symbols, optional\n",
    "All of the constants present in the equations of motion. The order does not matter.\n",
    "\n",
    "mass_matrix:sympy.Matrix, shape(n, n), optional\n",
    "This can be either the “full” mass matrix as in [2] or the “minimal” mass matrix as in [3]. The rows and columns must be ordered to match the order of the coordinates and speeds. In the case of the full mass matrix, the speeds should always be ordered before the speeds, i.e. x = [q, u].\n",
    "\n",
    "coordinate_derivatives:sympy.Matrix, shape(m, 1), optional\n",
    "If the “minimal” mass matrix, form [3], is supplied, then this column vector represents the right hand side of the kinematical differential equations.\n",
    "\n",
    "specifieds:sequence of SymPy Functions\n",
    "The specified exogenous inputs to the system. These should be functions of time and the order does not matter.\n",
    "\n",
    "linear_sys_solver:string or function\n",
    "Specify either numpy or scipy to use the linear solvers provided in each package or supply a function that solves a linear system Ax=b with the call signature x = solve(A, b). For example, if you need to use custom kwargs for the SciPy solver, pass in a lambda function that wraps the solver and sets them.\n",
    "\n",
    "constants_arg_type:string\n",
    "The generated function accepts two different types of arguments for the numerical values of the constants: either a ndarray of the constants values in the correct order or a dictionary mapping the constants symbols to the numerical values. If None, this is determined inside of the generated function and can cause a significant slow down for performance critical code. If you know apriori what arg types you need to support choose either array or dictionary. Note that array is faster than dictionary.\n",
    "\n",
    "specifieds_arg_type:string\n",
    "The generated function accepts three different types of arguments for the numerical values of the specifieds: either a ndarray of the specifieds values in the correct order, a function that generates the correctly ordered ndarray, or a dictionary mapping the specifieds symbols or tuples of thereof to floats, ndarrays, or functions. If None, this is determined inside of the generated function and can cause a significant slow down for performance critical code. If you know apriori what arg types you want to support choose either array, function, or dictionary. The speed of each, from fast to slow, are array, function, dictionary, None.\n",
    "'''"
   ]
  },
  {
   "cell_type": "code",
   "execution_count": null,
   "id": "191f59b6-99bd-4c5b-8aa1-c1a0cd9b7793",
   "metadata": {},
   "outputs": [],
   "source": [
    "# classpydy.codegen.ode_function_generators.ODEFunctionGenerator(right_hand_side, coordinates, speeds, constants=(), mass_matrix=None, coordinate_derivatives=None,specifieds=None, linear_sys_solver='numpy', constants_arg_type=None, specifieds_arg_type=None)[source]¶\n",
    "# This is an abstract base class for all of the generators. A subclass is expected to implement the methods necessary to evaluate the arrays needed to compute xdot for the three different system specification types.\n",
    "'''__init__(right_hand_side, coordinates, speeds, constants=(), mass_matrix=None, coordinate_derivatives=None, specifieds=None, linear_sys_solver='numpy', constants_arg_type=None, specifieds_arg_type=None)[source]¶\n",
    "Generates a numerical function which can evaluate the right hand side of the first order ordinary differential equations from a system described by one of the following three symbolic forms:\n",
    "\n",
    "[1] x’ = F(x, t, r, p)\n",
    "\n",
    "[2] M(x, p) x’ = F(x, t, r, p)\n",
    "\n",
    "[3] M(q, p) u’ = F(q, u, t, r, p)\n",
    "q’ = G(q, u, t, r, p)\n",
    "\n",
    "where\n",
    "\n",
    "x : states, i.e. [q, u] t : time r : specified (exogenous) inputs p : constants q : generalized coordinates u : generalized speeds M : mass matrix (full or minimum) F : right hand side (full or minimum) G : right hand side of the kinematical differential equations\n",
    "\n",
    "The generated function is of the form F(x, t, p) or F(x, t, r, p) depending on whether the system has specified inputs or not.\n",
    "\n",
    "Parameters\n",
    "right_hand_side:SymPy Matrix, shape(n, 1)\n",
    "    A column vector containing the symbolic expressions for the right hand side of the ordinary differential equations. \n",
    "    If the right hand side has been solved for symbolically then only F is required, see form [1]; \n",
    "    if not then the mass matrix must also be supplied, see forms [2, 3].\n",
    "\n",
    "coordinates:sequence of SymPy Functions\n",
    "    The generalized coordinates. These must be ordered in the same order as the rows in M, F, and/or G and be functions of time.\n",
    "\n",
    "speeds:sequence of SymPy Functions\n",
    "    The generalized speeds. These must be ordered in the same order as the rows in M, F, and/or G and be functions of time.\n",
    "\n",
    "constants:sequence of SymPy Symbols, optional\n",
    "    All of the constants present in the equations of motion. The order does not matter.\n",
    "\n",
    "mass_matrix:sympy.Matrix, shape(n, n), optional\n",
    "    This can be either the “full” mass matrix as in [2] or the “minimal” mass matrix as in [3]. \n",
    "    The rows and columns must be ordered to match the order of the coordinates and speeds. \n",
    "    In the case of the full mass matrix, the speeds should always be ordered before the speeds, i.e. x = [q, u].\n",
    "\n",
    "coordinate_derivatives:sympy.Matrix, shape(m, 1), optional\n",
    "    If the “minimal” mass matrix, form [3], is supplied, then this column vector represents the right hand side of the kinematical differential equations.\n",
    "\n",
    "specifieds:sequence of SymPy Functions\n",
    "    The specified exogenous inputs to the system. These should be functions of time and the order does not matter.\n",
    "\n",
    "linear_sys_solver:string or function\n",
    "    Specify either numpy or scipy to use the linear solvers provided in each package or supply a function that solves a linear system Ax=b with the call signature x = solve(A, b). \n",
    "    For example, if you need to use custom kwargs for the SciPy solver, pass in a lambda function that wraps the solver and sets them.\n",
    "\n",
    "constants_arg_type:string\n",
    "    The generated function accepts two different types of arguments for the numerical values of the constants: \n",
    "    either a ndarray of the constants values in the correct order or a dictionary mapping the constants symbols to the numerical values. \n",
    "    If None, this is determined inside of the generated function and can cause a significant slow down for performance critical code. \n",
    "    If you know apriori what arg types you need to support choose either array or dictionary. Note that array is faster than dictionary.\n",
    "\n",
    "specifieds_arg_type:string\n",
    "    The generated function accepts three different types of arguments for the numerical values of the specifieds: \n",
    "    either a ndarray of the specifieds values in the correct order, a function that generates the correctly ordered ndarray, \n",
    "    or a dictionary mapping the specifieds symbols or tuples of thereof to floats, ndarrays, or functions. \n",
    "    If None, this is determined inside of the generated function and can cause a significant slow down for performance critical code. \n",
    "    If you know apriori what arg types you want to support choose either array, function, or dictionary. \n",
    "    The speed of each, from fast to slow, are array, function, dictionary, None.\n",
    "\n",
    "define_inputs()[source]¶\n",
    "    Sets self.inputs to the list of sequences [q, u, p] or [q, u, r, p].\n",
    "\n",
    "generate()[source]¶\n",
    "    Returns a function that evaluates the right hand side of the first order ordinary differential equations in one of two forms:\n",
    "    \n",
    "    x’ = f(x, t, p)\n",
    "    \n",
    "    or\n",
    "    \n",
    "    x’ = f(x, t, r, p)\n",
    "    \n",
    "    See the docstring of the generated function for more details.\n",
    "\n",
    "static list_syms(indent, syms)[source]¶\n",
    "Returns a string representation of a valid rst list of the symbols in the sequence syms and indents the list given the integer number of indentations."
   ]
  },
  {
   "cell_type": "code",
   "execution_count": null,
   "id": "6eb1dd1a-b238-46ca-9cc2-c19a50eb59d6",
   "metadata": {},
   "outputs": [],
   "source": [
    "# classpydy.codegen.ode_function_generators.TheanoODEFunctionGenerator(*args, **kwargs)[source]¶\n",
    "'''\n",
    "__init__(*args, **kwargs)[source]¶\n",
    "Generates a numerical function which can evaluate the right hand side of the first order ordinary differential equations from a system described by one of the following three symbolic forms:\n",
    "\n",
    "[1] x’ = F(x, t, r, p)\n",
    "\n",
    "[2] M(x, p) x’ = F(x, t, r, p)\n",
    "\n",
    "[3] M(q, p) u’ = F(q, u, t, r, p)\n",
    "q’ = G(q, u, t, r, p)\n",
    "\n",
    "where\n",
    "\n",
    "x : states, i.e. [q, u] t : time r : specified (exogenous) inputs p : constants q : generalized coordinates u : generalized speeds M : mass matrix (full or minimum) F : right hand side (full or minimum) G : right hand side of the kinematical differential equations\n",
    "\n",
    "The generated function is of the form F(x, t, p) or F(x, t, r, p) depending on whether the system has specified inputs or not.\n",
    "\n",
    "Parameters\n",
    "    right_hand_side:SymPy Matrix, shape(n, 1)\n",
    "        A column vector containing the symbolic expressions for the right hand side of the ordinary differential equations. If the right hand side has been solved for symbolically then only F is required, see form [1]; if not then the mass matrix must also be supplied, see forms [2, 3].\n",
    "    \n",
    "    coordinates:sequence of SymPy Functions\n",
    "        The generalized coordinates. These must be ordered in the same order as the rows in M, F, and/or G and be functions of time.\n",
    "    \n",
    "    speeds:sequence of SymPy Functions\n",
    "        The generalized speeds. These must be ordered in the same order as the rows in M, F, and/or G and be functions of time.\n",
    "    \n",
    "    constants:sequence of SymPy Symbols, optional\n",
    "        All of the constants present in the equations of motion. The order does not matter.\n",
    "    \n",
    "    mass_matrix:sympy.Matrix, shape(n, n), optional\n",
    "        This can be either the “full” mass matrix as in [2] or the “minimal” mass matrix as in [3]. The rows and columns must be ordered to match the order of the coordinates and speeds. In the case of the full mass matrix, the speeds should always be ordered before the speeds, i.e. x = [q, u].\n",
    "    \n",
    "    coordinate_derivatives:sympy.Matrix, shape(m, 1), optional\n",
    "        If the “minimal” mass matrix, form [3], is supplied, then this column vector represents the right hand side of the kinematical differential equations.\n",
    "    \n",
    "    specifieds:sequence of SymPy Functions\n",
    "        The specified exogenous inputs to the system. These should be functions of time and the order does not matter.\n",
    "\n",
    "    linear_sys_solverz:string or function\n",
    "        Specify either numpy or scipy to use the linear solvers provided in each package or supply a function that solves a linear system Ax=b with the call signature x = solve(A, b). For example, if you need to use custom kwargs for the SciPy solver, pass in a lambda function that wraps the solver and sets them.\n",
    "    \n",
    "    constants_arg_type:string\n",
    "        The generated function accepts two different types of arguments for the numerical values of the constants: either a ndarray of the constants values in the correct order or a dictionary mapping the constants symbols to the numerical values. If None, this is determined inside of the generated function and can cause a significant slow down for performance critical code. If you know apriori what arg types you need to support choose either array or dictionary. Note that array is faster than dictionary.\n",
    "    \n",
    "    specifieds_arg_type:string\n",
    "        The generated function accepts three different types of arguments for the numerical values of the specifieds: either a ndarray of the specifieds values in the correct order, a function that generates the correctly ordered ndarray, or a dictionary mapping the specifieds symbols or tuples of thereof to floats, ndarrays, or functions. If None, this is determined inside of the generated function and can cause a significant slow down for performance critical code. If you know apriori what arg types you want to support choose either array, function, or dictionary. The speed of each, from fast to slow, are array, function, dictionary, None.\n",
    "\n",
    "define_inputs()[source]¶\n",
    "Sets self.inputs to the list of sequences [q, u, p] or [q, u, r, p].\n",
    "\n",
    "\n",
    "'''"
   ]
  },
  {
   "cell_type": "code",
   "execution_count": null,
   "id": "4dc5819c-69d5-4951-b011-95fd9580f8ef",
   "metadata": {},
   "outputs": [],
   "source": [
    "# pydy.codegen.ode_function_generators.generate_ode_function(*args, **kwargs)[source]¶\n",
    "# Generates a numerical function which can evaluate the right hand side of the first order ordinary differential equations from a system described by one of the following three symbolic forms:\n",
    "'''\n",
    "[1] x’ = F(x, t, r, p)\n",
    "\n",
    "[2] M(x, p) x’ = F(x, t, r, p)\n",
    "\n",
    "[3] M(q, p) u’ = F(q, u, t, r, p)\n",
    "q’ = G(q, u, t, r, p)\n",
    "\n",
    "where\n",
    "\n",
    "x : states, i.e. [q, u] t : time r : specified (exogenous) inputs p : constants q : generalized coordinates u : generalized speeds M : mass matrix (full or minimum) F : right hand side (full or minimum) G : right hand side of the kinematical differential equations\n",
    "\n",
    "The generated function is of the form F(x, t, p) or F(x, t, r, p) depending on whether the system has specified inputs or not.\n",
    "\n",
    "Parameters\n",
    "right_hand_sideZ:SymPy Matrix, shape(n, 1)\n",
    "    A column vector containing the symbolic expressions for the right hand side of the ordinary differential equations. If the right hand side has been solved for symbolically then only F is required, see form [1]; if not then the mass matrix must also be supplied, see forms [2, 3].\n",
    "\n",
    "coordinatesZ:sequence of SymPy Functions\n",
    "    The generalized coordinates. These must be ordered in the same order as the rows in M, F, and/or G and be functions of time.\n",
    "\n",
    "speedsZ:sequence of SymPy Functions\n",
    "    The generalized speeds. These must be ordered in the same order as the rows in M, F, and/or G and be functions of time.\n",
    "\n",
    "constantsz:sequence of SymPy Symbols, optional\n",
    "    All of the constants present in the equations of motion. The order does not matter.\n",
    "\n",
    "mass_matrixZ:sympy.Matrix, shape(n, n), optional\n",
    "    This can be either the “full” mass matrix as in [2] or the “minimal” mass matrix as in [3]. The rows and columns must be ordered to match the order of the coordinates and speeds. In the case of the full mass matrix, the speeds should always be ordered before the speeds, i.e. x = [q, u].\n",
    "\n",
    "coordinate_derivatives:sympy.Matrix, shape(m, 1), optional\n",
    "    If the “minimal” mass matrix, form [3], is supplied, then this column vector represents the right hand side of the kinematical differential equations.\n",
    "\n",
    "specifieds:sequence of SymPy Functions\n",
    "    The specified exogenous inputs to the system. These should be functions of time and the order does not matter.\n",
    "\n",
    "linear_sys_solver:string or function\n",
    "    Specify either numpy or scipy to use the linear solvers provided in each package or supply a function that solves a linear system Ax=b with the call signature x = solve(A, b). For example, if you need to use custom kwargs for the SciPy solver, pass in a lambda function that wraps the solver and sets them.\n",
    "\n",
    "constants_arg_type:string\n",
    "    The generated function accepts two different types of arguments for the numerical values of the constants: either a ndarray of the constants values in the correct order or a dictionary mapping the constants symbols to the numerical values. If None, this is determined inside of the generated function and can cause a significant slow down for performance critical code. If you know apriori what arg types you need to support choose either array or dictionary. Note that array is faster than dictionary.\n",
    "\n",
    "specifieds_arg_type:string\n",
    "    The generated function accepts three different types of arguments for the numerical values of the specifieds: either a ndarray of the specifieds values in the correct order, a function that generates the correctly ordered ndarray, or a dictionary mapping the specifieds symbols or tuples of thereof to floats, ndarrays, or functions. If None, this is determined inside of the generated function and can cause a significant slow down for performance critical code. If you know apriori what arg types you want to support choose either array, function, or dictionary. The speed of each, from fast to slow, are array, function, dictionary, None.\n",
    "\n",
    "generator : string or and ODEFunctionGenerator, optional\n",
    "\n",
    "The method used for generating the numeric right hand side. The string options are {‘lambdify’|’theano’|’cython’} with ‘lambdify’ being the default. You can also pass in a custom subclass of ODEFunctionGenerator.\n",
    "\n",
    "Returns\n",
    "rhsfunction\n",
    "A function which evaluates the derivaties of the states. See the function’s docstring for more details after generation.\n",
    "'''"
   ]
  },
  {
   "cell_type": "markdown",
   "id": "910cc79a-6bd2-487b-a5ef-b8d17fd0d7db",
   "metadata": {},
   "source": [
    "# Example \n",
    "## https://pydy.readthedocs.io/en/stable/examples/chaos-pendulum.html"
   ]
  },
  {
   "cell_type": "code",
   "execution_count": 151,
   "id": "e21d6c07-4426-4314-9309-3953d5d7ab48",
   "metadata": {},
   "outputs": [],
   "source": [
    "import numpy as np\n",
    "import matplotlib.pyplot as plt\n",
    "import sympy as sm\n",
    "import sympy.physics.mechanics as me\n",
    "from pydy.system import System\n",
    "from pydy.viz import Cylinder, Plane, VisualizationFrame, Scene"
   ]
  },
  {
   "cell_type": "code",
   "execution_count": 152,
   "id": "3138e326-aa89-42cb-add1-679fe0ecb1fd",
   "metadata": {},
   "outputs": [],
   "source": [
    "%matplotlib inline\n",
    "me.init_vprinting(use_latex='mathjax')"
   ]
  },
  {
   "cell_type": "code",
   "execution_count": 187,
   "id": "60989c26-ab8d-4c9d-8355-87781fc86b27",
   "metadata": {},
   "outputs": [
    {
     "name": "stdout",
     "output_type": "stream",
     "text": [
      "Collecting pydy[visualization]\n",
      "  Using cached pydy-0.7.1.tar.gz (6.6 MB)\n",
      "  Preparing metadata (setup.py) ... \u001b[?25ldone\n",
      "\u001b[33mWARNING: pydy 0.7.1 does not provide the extra 'visualization'\u001b[0m\u001b[33m\n",
      "\u001b[0m\u001b[?25hRequirement already satisfied: numpy>=1.16.5 in /Library/Frameworks/Python.framework/Versions/3.8/lib/python3.8/site-packages (from pydy[visualization]) (1.24.3)\n",
      "Requirement already satisfied: setuptools>=44.0.0 in ./Library/Python/3.8/lib/python/site-packages (from pydy[visualization]) (75.3.2)\n",
      "Requirement already satisfied: scipy>=1.3.3 in /Library/Frameworks/Python.framework/Versions/3.8/lib/python3.8/site-packages (from pydy[visualization]) (1.10.1)\n",
      "Requirement already satisfied: sympy>=1.5.1 in /Library/Frameworks/Python.framework/Versions/3.8/lib/python3.8/site-packages (from pydy[visualization]) (1.12)\n",
      "Requirement already satisfied: mpmath>=0.19 in /Library/Frameworks/Python.framework/Versions/3.8/lib/python3.8/site-packages (from sympy>=1.5.1->pydy[visualization]) (1.3.0)\n",
      "Building wheels for collected packages: pydy\n",
      "  Building wheel for pydy (setup.py) ... \u001b[?25ldone\n",
      "\u001b[?25h  Created wheel for pydy: filename=pydy-0.7.1-py3-none-any.whl size=5227160 sha256=65b0bd96db7b2dbba16ceb2f1c16791012c9e08dcf2ec37a4c1aec6d67a44d30\n",
      "  Stored in directory: /Users/yifanzhang/Library/Caches/pip/wheels/e6/25/87/d248ada8230596b74c734b677ec2b403bbb5dd5bffa0f1d484\n",
      "Successfully built pydy\n",
      "Installing collected packages: pydy\n",
      "Successfully installed pydy-0.7.1\n",
      "usage: jupyter [-h] [--version] [--config-dir] [--data-dir] [--runtime-dir]\n",
      "               [--paths] [--json] [--debug]\n",
      "               [subcommand]\n",
      "\n",
      "Jupyter: Interactive Computing\n",
      "\n",
      "positional arguments:\n",
      "  subcommand     the subcommand to launch\n",
      "\n",
      "options:\n",
      "  -h, --help     show this help message and exit\n",
      "  --version      show the versions of core jupyter packages and exit\n",
      "  --config-dir   show Jupyter config dir\n",
      "  --data-dir     show Jupyter data dir\n",
      "  --runtime-dir  show Jupyter runtime dir\n",
      "  --paths        show all Jupyter paths. Add --json for machine-readable\n",
      "                 format.\n",
      "  --json         output paths as machine-readable json\n",
      "  --debug        output debug information about paths\n",
      "\n",
      "Available subcommands: console dejavu events execute kernel kernelspec lab\n",
      "labextension labhub migrate nbconvert notebook qtconsole run server\n",
      "troubleshoot trust\n",
      "\n",
      "Jupyter command `jupyter-nbextension` not found.\n"
     ]
    }
   ],
   "source": [
    "!pip install \"pydy[visualization]\"\n",
    "!jupyter nbextension enable --py --sys-prefix pydy.viz"
   ]
  },
  {
   "cell_type": "markdown",
   "id": "68d99a44-8f22-4f1b-b9ae-82440c967773",
   "metadata": {},
   "source": [
    "## Define Variables¶"
   ]
  },
  {
   "cell_type": "code",
   "execution_count": 153,
   "id": "769707dd-4a7b-4d8c-854d-8d8c240f6b72",
   "metadata": {},
   "outputs": [],
   "source": [
    "'''\n",
    "First define the system constants:\n",
    "\n",
    "mA: Mass of the slender rod.\n",
    "\n",
    "mB: Mass of the plate.\n",
    "\n",
    "lB: Distance from N0 to B0 along the slender rod’s axis.\n",
    "\n",
    "w: The width of the plate.\n",
    "\n",
    "h: The height of the plate.\n",
    "\n",
    "g: The acceleratoin due to gravity.\n",
    "'''\n",
    "mA, mB, lB, w, h, g = sm.symbols('m_A, m_B, L_B, w, h, g')\n"
   ]
  },
  {
   "cell_type": "code",
   "execution_count": 156,
   "id": "5d53932c-797f-4759-a2a4-bde617b18e8b",
   "metadata": {},
   "outputs": [],
   "source": [
    "# There are two time varying generalized coordinates:\n",
    "\n",
    "'''θ (t): The angle of the slender rod with respect to the ceiling.\n",
    "φ (t): The angle of the plate with respect to the slender rod.\n",
    "\n",
    "The two generalized speeds will then be defined as:\n",
    "ω (t) = theta.diff() : The angular rate of the slender rod with respect to the ceiling.\n",
    "α (t) = phi.diff() : The angluer rate of the plate with respect to the slender rod. '''\n",
    "theta, phi = me.dynamicsymbols('theta, phi')\n",
    "omega, alpha = me.dynamicsymbols('omega, alpha')\n"
   ]
  },
  {
   "cell_type": "code",
   "execution_count": 155,
   "id": "7beb745d-607d-421a-8e63-3e91fb5b9352",
   "metadata": {},
   "outputs": [
    {
     "data": {
      "text/latex": [
       "$\\displaystyle \\left( \\omega - \\dot{\\theta}, \\  \\alpha - \\dot{\\phi}\\right)$"
      ],
      "text/plain": [
       "(ω - θ̇, α - φ̇)"
      ]
     },
     "execution_count": 155,
     "metadata": {},
     "output_type": "execute_result"
    }
   ],
   "source": [
    "kin_diff = (omega - theta.diff(), alpha - phi.diff())\n",
    "kin_diff"
   ]
  },
  {
   "cell_type": "markdown",
   "id": "bbf055e6-81d1-4947-80f0-a283dbaf5481",
   "metadata": {},
   "source": [
    "## Define Orientations¶\n",
    "\n"
   ]
  },
  {
   "cell_type": "code",
   "execution_count": 157,
   "id": "d4721c6f-37c5-4fef-b3d6-9fdc2b690ac2",
   "metadata": {},
   "outputs": [],
   "source": [
    "N = me.ReferenceFrame('N')\n",
    "A = me.ReferenceFrame('A')\n",
    "B = me.ReferenceFrame('B')"
   ]
  },
  {
   "cell_type": "code",
   "execution_count": 159,
   "id": "d8209ef8-e99f-416d-bdf8-6f02a912982a",
   "metadata": {},
   "outputs": [],
   "source": [
    "#The frames are oriented with respect to each other by simple revolute rotations. The following lines set the orientations:\n",
    "\n",
    "A.orient(N, 'Axis', (theta, N.y))\n",
    "B.orient(A, 'Axis', (phi, A.z))"
   ]
  },
  {
   "cell_type": "markdown",
   "id": "4be6a057-0d72-4fff-8aa1-a610337e3e28",
   "metadata": {},
   "source": [
    "## Define Positions¶"
   ]
  },
  {
   "cell_type": "code",
   "execution_count": 160,
   "id": "0796f2c6-bbfd-4141-bb27-8307ca1f0b4b",
   "metadata": {},
   "outputs": [],
   "source": [
    "'''\n",
    "Three points are necessary to define the problem:\n",
    "\n",
    "N0: The fixed point which the slender rod rotates about.\n",
    "\n",
    "A0: The center of mass of the slender rod.\n",
    "\n",
    "B0: The center of mass of the plate.\n",
    "'''\n",
    "No = me.Point('No')\n",
    "Ao = me.Point('Ao')\n",
    "Bo = me.Point('Bo')"
   ]
  },
  {
   "cell_type": "code",
   "execution_count": 161,
   "id": "25281d5d-b88d-4307-90a5-8ee3fceefee5",
   "metadata": {},
   "outputs": [],
   "source": [
    "# The two centers of mass positions can be set relative to the fixed point\n",
    "\n",
    "lA = (lB - h / 2) / 2\n",
    "Ao.set_pos(No, lA * A.z)\n",
    "Bo.set_pos(No, lB * A.z)"
   ]
  },
  {
   "cell_type": "markdown",
   "id": "bf65a901-ac01-43cd-8850-ade34e5729cb",
   "metadata": {},
   "source": [
    "## Specify the Velocities¶"
   ]
  },
  {
   "cell_type": "code",
   "execution_count": 162,
   "id": "8d761887-a138-468c-afe8-2a95f85795c0",
   "metadata": {},
   "outputs": [],
   "source": [
    "# The generalized speeds should be used in the definition of the linear and angular velocities when using Kane’s method. For simple rotations and the defined kinematical differential equations the angular rates are:\n",
    "\n",
    "A.set_ang_vel(N, omega * N.y)\n",
    "B.set_ang_vel(A, alpha * A.z)"
   ]
  },
  {
   "cell_type": "code",
   "execution_count": 163,
   "id": "ff98a4e3-c31b-48ec-9661-fd742e53f06d",
   "metadata": {},
   "outputs": [],
   "source": [
    "# Once the angular velocities are specified the linear velocities can be computed using the two point velocity thereom, starting with the origin point having a velocity of zero.\n",
    "No.set_vel(N, 0)"
   ]
  },
  {
   "cell_type": "code",
   "execution_count": 164,
   "id": "a3ee27f2-14c5-4ac9-bdd3-860bb8582027",
   "metadata": {},
   "outputs": [
    {
     "data": {
      "text/latex": [
       "$\\displaystyle \\left(\\frac{L_{B}}{2} - \\frac{h}{4}\\right) \\omega\\mathbf{\\hat{a}_x}$"
      ],
      "text/plain": [
       "⎛L_B   h⎞      \n",
       "⎜─── - ─⎟⋅ω a_x\n",
       "⎝ 2    4⎠      "
      ]
     },
     "execution_count": 164,
     "metadata": {},
     "output_type": "execute_result"
    }
   ],
   "source": [
    "Ao.v2pt_theory(No, N, A)"
   ]
  },
  {
   "cell_type": "code",
   "execution_count": 165,
   "id": "5fa0c5ba-6d8d-49ce-a661-354616806b42",
   "metadata": {},
   "outputs": [
    {
     "data": {
      "text/latex": [
       "$\\displaystyle L_{B} \\omega\\mathbf{\\hat{a}_x}$"
      ],
      "text/plain": [
       "L_B⋅ω a_x"
      ]
     },
     "execution_count": 165,
     "metadata": {},
     "output_type": "execute_result"
    }
   ],
   "source": [
    "Bo.v2pt_theory(No, N, A)"
   ]
  },
  {
   "cell_type": "markdown",
   "id": "0fa1e4f0-a94c-4755-9cc9-540ece697ff8",
   "metadata": {},
   "source": [
    "## Inertia¶"
   ]
  },
  {
   "cell_type": "code",
   "execution_count": 166,
   "id": "cd63f68c-9bb1-44f4-bd6c-fe9f658a5cd7",
   "metadata": {},
   "outputs": [],
   "source": [
    "# The central inertia of the symmetric slender rod with respect to its reference frame is a function of its length and its mass.\n",
    "\n",
    "IAxx = sm.S(1) / 12 * mA * (2 * lA)**2\n",
    "IAyy = IAxx\n",
    "IAzz = 0\n",
    "\n",
    "IA = (me.inertia(A, IAxx, IAyy, IAzz), Ao)"
   ]
  },
  {
   "cell_type": "code",
   "execution_count": 167,
   "id": "28a296e5-eee7-4e78-a13c-7fd5ae8ca898",
   "metadata": {},
   "outputs": [
    {
     "data": {
      "text/latex": [
       "$\\displaystyle \\left[\\begin{matrix}\\frac{m_{A} \\left(L_{B} - \\frac{h}{2}\\right)^{2}}{12} & 0 & 0\\\\0 & \\frac{m_{A} \\left(L_{B} - \\frac{h}{2}\\right)^{2}}{12} & 0\\\\0 & 0 & 0\\end{matrix}\\right]$"
      ],
      "text/plain": [
       "⎡             2                   ⎤\n",
       "⎢    ⎛      h⎞                    ⎥\n",
       "⎢m_A⋅⎜L_B - ─⎟                    ⎥\n",
       "⎢    ⎝      2⎠                    ⎥\n",
       "⎢──────────────        0         0⎥\n",
       "⎢      12                         ⎥\n",
       "⎢                                 ⎥\n",
       "⎢                             2   ⎥\n",
       "⎢                    ⎛      h⎞    ⎥\n",
       "⎢                m_A⋅⎜L_B - ─⎟    ⎥\n",
       "⎢                    ⎝      2⎠    ⎥\n",
       "⎢      0         ──────────────  0⎥\n",
       "⎢                      12         ⎥\n",
       "⎢                                 ⎥\n",
       "⎣      0               0         0⎦"
      ]
     },
     "execution_count": 167,
     "metadata": {},
     "output_type": "execute_result"
    }
   ],
   "source": [
    "# This gives the inertia tensor:\n",
    "\n",
    "IA[0].to_matrix(A)"
   ]
  },
  {
   "cell_type": "code",
   "execution_count": 168,
   "id": "1655513c-cbf9-428e-ba0f-d6e5d2cfde02",
   "metadata": {},
   "outputs": [],
   "source": [
    "# The central inerita of the symmetric plate with respect to its reference frame is a function of its width and height.\n",
    "\n",
    "IBxx = sm.S(1)/12 * mB * h**2\n",
    "IByy = sm.S(1)/12 * mB * (w**2 + h**2)\n",
    "IBzz = sm.S(1)/12 * mB * w**2\n",
    "\n",
    "IB = (me.inertia(B, IBxx, IByy, IBzz), Bo)"
   ]
  },
  {
   "cell_type": "code",
   "execution_count": 169,
   "id": "3d1ee330-f79f-485e-96f2-69219b90132a",
   "metadata": {},
   "outputs": [
    {
     "data": {
      "text/latex": [
       "$\\displaystyle \\left[\\begin{matrix}\\frac{h^{2} m_{B}}{12} & 0 & 0\\\\0 & \\frac{m_{B} \\left(h^{2} + w^{2}\\right)}{12} & 0\\\\0 & 0 & \\frac{m_{B} w^{2}}{12}\\end{matrix}\\right]$"
      ],
      "text/plain": [
       "⎡ 2                           ⎤\n",
       "⎢h ⋅m_B                       ⎥\n",
       "⎢──────        0          0   ⎥\n",
       "⎢  12                         ⎥\n",
       "⎢                             ⎥\n",
       "⎢            ⎛ 2    2⎞        ⎥\n",
       "⎢        m_B⋅⎝h  + w ⎠        ⎥\n",
       "⎢  0     ─────────────    0   ⎥\n",
       "⎢             12              ⎥\n",
       "⎢                             ⎥\n",
       "⎢                            2⎥\n",
       "⎢                       m_B⋅w ⎥\n",
       "⎢  0           0        ──────⎥\n",
       "⎣                         12  ⎦"
      ]
     },
     "execution_count": 169,
     "metadata": {},
     "output_type": "execute_result"
    }
   ],
   "source": [
    "IB[0].to_matrix(B)"
   ]
  },
  {
   "cell_type": "code",
   "execution_count": 170,
   "id": "98651c01-c8d0-4a81-bfdb-e64e462930e5",
   "metadata": {},
   "outputs": [],
   "source": [
    "# All of the information to define the two rigid bodies are now available. This information is used to create an object for the rod and the plate.\n",
    "\n",
    "rod = me.RigidBody('rod', Ao, A, mA, IA)\n",
    "plate = me.RigidBody('plate', Bo, B, mB, IB)"
   ]
  },
  {
   "cell_type": "markdown",
   "id": "fa87753f-f251-4b58-b902-b94957f14049",
   "metadata": {},
   "source": [
    "## Loads¶"
   ]
  },
  {
   "cell_type": "code",
   "execution_count": 171,
   "id": "271a5247-1ebd-43b4-904e-a48bb037d3d5",
   "metadata": {},
   "outputs": [],
   "source": [
    "# The only loads in this problem is the force due to gravity that acts on the center of mass of each body. These forces are specified with a tuple containing the point of application and the force vector.\n",
    "\n",
    "rod_gravity = (Ao, mA * g * N.z)\n",
    "plate_gravity = (Bo, mB * g * N.z)"
   ]
  },
  {
   "cell_type": "code",
   "execution_count": 172,
   "id": "b25ec638-7543-40f2-98ea-bc7e347f5425",
   "metadata": {},
   "outputs": [],
   "source": [
    "# Equations of motion¶\n",
    "# Now that the kinematics, kinetics, and inertia have all been defined the KanesMethod class can be used to generate the equations of motion of the system. In this case the independent generalized speeds, independent generalized speeds, the kinematical differential equations, and the inertial reference frame are used to initialize the class.\n",
    "\n",
    "kane = me.KanesMethod(N, q_ind=(theta, phi), u_ind=(omega, alpha), kd_eqs=kin_diff)"
   ]
  },
  {
   "cell_type": "code",
   "execution_count": 173,
   "id": "d6050d88-071a-466d-b924-7dd8c27370be",
   "metadata": {},
   "outputs": [],
   "source": [
    "# The equations of motion are then generated by passing in all of the loads and bodies to the kanes_equations method. This produces Fr and Fr*\n",
    "\n",
    "bodies = (rod, plate)\n",
    "loads = (rod_gravity, plate_gravity)\n",
    "\n",
    "fr, frstar = kane.kanes_equations(bodies, loads)\n"
   ]
  },
  {
   "cell_type": "code",
   "execution_count": 174,
   "id": "b2f761b9-ab3e-4a0e-807b-1505aacb6ffb",
   "metadata": {},
   "outputs": [
    {
     "data": {
      "text/latex": [
       "$\\displaystyle \\left[\\begin{matrix}g \\left(- \\frac{L_{B} m_{A}}{2} - L_{B} m_{B} + \\frac{h m_{A}}{4}\\right) \\sin{\\left(\\theta \\right)}\\\\0\\end{matrix}\\right]$"
      ],
      "text/plain": [
       "⎡  ⎛  L_B⋅m_A             h⋅m_A⎞       ⎤\n",
       "⎢g⋅⎜- ─────── - L_B⋅m_B + ─────⎟⋅sin(θ)⎥\n",
       "⎢  ⎝     2                  4  ⎠       ⎥\n",
       "⎢                                      ⎥\n",
       "⎣                  0                   ⎦"
      ]
     },
     "execution_count": 174,
     "metadata": {},
     "output_type": "execute_result"
    }
   ],
   "source": [
    "sm.trigsimp(fr)"
   ]
  },
  {
   "cell_type": "code",
   "execution_count": 175,
   "id": "5c65c89d-4e65-4fde-bb57-2688bab9afda",
   "metadata": {},
   "outputs": [
    {
     "data": {
      "text/latex": [
       "$\\displaystyle \\left[\\begin{matrix}\\frac{m_{B} w^{2} \\alpha \\omega \\sin{\\left(2 \\phi \\right)}}{12} - \\left(\\frac{L_{B}^{2} m_{A}}{3} + L_{B}^{2} m_{B} - \\frac{L_{B} h m_{A}}{3} + \\frac{h^{2} m_{A}}{12} + \\frac{h^{2} m_{B}}{12} + \\frac{m_{B} w^{2} \\cos^{2}{\\left(\\phi \\right)}}{12}\\right) \\dot{\\omega}\\\\- \\frac{m_{B} w^{2} \\left(\\omega^{2} \\sin{\\left(2 \\phi \\right)} + 2 \\dot{\\alpha}\\right)}{24}\\end{matrix}\\right]$"
      ],
      "text/plain": [
       "⎡     2                ⎛   2                               2        2          ↪\n",
       "⎢m_B⋅w ⋅α⋅ω⋅sin(2⋅φ)   ⎜L_B ⋅m_A      2       L_B⋅h⋅m_A   h ⋅m_A   h ⋅m_B   m_ ↪\n",
       "⎢─────────────────── - ⎜──────── + L_B ⋅m_B - ───────── + ────── + ────── + ── ↪\n",
       "⎢        12            ⎝   3                      3         12       12        ↪\n",
       "⎢                                                                              ↪\n",
       "⎢                                      2 ⎛ 2               ⎞                   ↪\n",
       "⎢                                -m_B⋅w ⋅⎝ω ⋅sin(2⋅φ) + 2⋅α̇⎠                   ↪\n",
       "⎢                                ────────────────────────────                  ↪\n",
       "⎣                                             24                               ↪\n",
       "\n",
       "↪    2    2   ⎞  ⎤\n",
       "↪ B⋅w ⋅cos (φ)⎟  ⎥\n",
       "↪ ────────────⎟⋅ω̇⎥\n",
       "↪     12      ⎠  ⎥\n",
       "↪                ⎥\n",
       "↪                ⎥\n",
       "↪                ⎥\n",
       "↪                ⎥\n",
       "↪                ⎦"
      ]
     },
     "execution_count": 175,
     "metadata": {},
     "output_type": "execute_result"
    }
   ],
   "source": [
    "sm.trigsimp(frstar)"
   ]
  },
  {
   "cell_type": "markdown",
   "id": "035e503b-c93e-4142-bb36-b8608ee0f9e0",
   "metadata": {},
   "source": [
    "## Simulation¶"
   ]
  },
  {
   "cell_type": "code",
   "execution_count": 176,
   "id": "90e2ad2a-d7ff-4b74-b41c-ca1b9b891022",
   "metadata": {},
   "outputs": [],
   "source": [
    "# The equations of motion can now be simulated numerically. Values for the constants, initial conditions, and time are provided to the System class along with the symbolic KanesMethod object.\n",
    "\n",
    "sys = System(kane)\n",
    "sys.constants = {lB: 0.2, # meters\n",
    "                 h: 0.1, # meters\n",
    "                 w: 0.2, # meters\n",
    "                 mA: 0.01, # kilograms\n",
    "                 mB: 0.1, # kilograms\n",
    "                 g: 9.81} # meters per second squared\n",
    "sys.initial_conditions = {theta: np.deg2rad(45),\n",
    "                          phi: np.deg2rad(0.5),\n",
    "                          omega: 0,\n",
    "                          alpha: 0}\n",
    "sys.times = np.linspace(0.0, 10.0, num=300)"
   ]
  },
  {
   "cell_type": "code",
   "execution_count": 177,
   "id": "18bc2de3-ed23-4278-987c-14047db2d5e0",
   "metadata": {},
   "outputs": [],
   "source": [
    "# The trajectories of the states are found with the integrate method.\n",
    "\n",
    "x = sys.integrate()"
   ]
  },
  {
   "cell_type": "code",
   "execution_count": 178,
   "id": "de94c260-4b04-4e66-be2c-3443b05d1693",
   "metadata": {},
   "outputs": [
    {
     "data": {
      "image/png": "[encoded data removed]",
      "text/plain": [
       "<Figure size 640x480 with 1 Axes>"
      ]
     },
     "metadata": {},
     "output_type": "display_data"
    }
   ],
   "source": [
    "# The angles can be plotted to see how they change with respect to time given the initial conditions.\n",
    "\n",
    "def plot():\n",
    "    plt.figure()\n",
    "    plt.plot(sys.times, np.rad2deg(x[:, :2]))\n",
    "    plt.legend([sm.latex(s, mode='inline') for s in sys.coordinates])\n",
    "\n",
    "plot()"
   ]
  },
  {
   "cell_type": "markdown",
   "id": "7a27dd7e-e11e-4c22-92d4-d03a6c925b2e",
   "metadata": {},
   "source": [
    "## Chaotic Behavior¶"
   ]
  },
  {
   "cell_type": "code",
   "execution_count": 179,
   "id": "e628e0c4-d848-4fe8-92ff-cd2c8b0e7cc5",
   "metadata": {},
   "outputs": [
    {
     "data": {
      "image/png": "[encoded data removed]",
      "text/plain": [
       "<Figure size 640x480 with 1 Axes>"
      ]
     },
     "metadata": {},
     "output_type": "display_data"
    }
   ],
   "source": [
    "# Now change the intial condition of the plat angle just slighty to see if the behvior of the system is similar.\n",
    "\n",
    "sys.initial_conditions[phi] = np.deg2rad(1.0)\n",
    "x = sys.integrate()\n",
    "plot()\n",
    "# Seems all good, very similar behavior. But now set the rod angle to and try the same slight change in plate angle.\n",
    "\n"
   ]
  },
  {
   "cell_type": "code",
   "execution_count": 180,
   "id": "eafd02cc-beca-46d3-b25e-fcb8cf83fbc4",
   "metadata": {},
   "outputs": [
    {
     "data": {
      "image/png": "[encoded data removed]",
      "text/plain": [
       "<Figure size 640x480 with 1 Axes>"
      ]
     },
     "metadata": {},
     "output_type": "display_data"
    }
   ],
   "source": [
    "# sys.initial_conditions[theta] = np.deg2rad(90)\n",
    "sys.initial_conditions[phi] = np.deg2rad(0.5)\n",
    "x = sys.integrate()\n",
    "plot()"
   ]
  },
  {
   "cell_type": "code",
   "execution_count": 181,
   "id": "3ac64420-892c-4f97-8817-5ee96ed51dd9",
   "metadata": {},
   "outputs": [
    {
     "data": {
      "image/png": "[encoded data removed]",
      "text/plain": [
       "<Figure size 640x480 with 1 Axes>"
      ]
     },
     "metadata": {},
     "output_type": "display_data"
    }
   ],
   "source": [
    "# First note that the plate behaves wildly. What happens when the initial plate angle is altered slightly.\n",
    "\n",
    "sys.initial_conditions[phi] = np.deg2rad(1.0)\n",
    "x = sys.integrate()\n",
    "plot()\n",
    "# The behavior does not look similar to the previous simulation. This is an example of chaotic behavior. The plate angle can not be reliably predicted because slight changes in the initial conditions cause the behavior of the system to vary widely."
   ]
  },
  {
   "cell_type": "markdown",
   "id": "350683a5-da31-40a9-be3f-8ed4b7e67aff",
   "metadata": {},
   "source": [
    "## Visualization"
   ]
  },
  {
   "cell_type": "code",
   "execution_count": 183,
   "id": "439a0cd7-5c97-4ab9-965a-228e2df86ea0",
   "metadata": {},
   "outputs": [],
   "source": [
    "# Finally, the system can be animated by attached a cylinder and a plane shape to the rigid bodies. To properly align the coordinate axes of the shapes with the bodies, simple rotations are used.\n",
    "\n",
    "rod_shape = Cylinder(2 * lA, 0.005, color='red', name='rod')\n",
    "plate_shape = Plane(w, h, color='blue', name='plate')\n",
    "\n",
    "v1 = VisualizationFrame('rod',\n",
    "                        A.orientnew('rod', 'Axis', (sm.pi / 2, A.x)),\n",
    "                        Ao,\n",
    "                        rod_shape)\n",
    "\n",
    "v2 = VisualizationFrame('plate',\n",
    "                        B.orientnew('plate', 'Body', (sm.pi / 2, sm.pi / 2, 0), 'XZX'),\n",
    "                        Bo,\n",
    "                        plate_shape)\n",
    "\n",
    "scene = Scene(N, No, v1, v2, system=sys)"
   ]
  },
  {
   "cell_type": "code",
   "execution_count": 188,
   "id": "b7977826-73f8-4ada-bfc4-f3a28403ef47",
   "metadata": {},
   "outputs": [
    {
     "name": "stdout",
     "output_type": "stream",
     "text": [
      "/Users/yifanzhang/pydy-resources\n",
      "Serving HTTP on 127.0.0.1 port 8000 ...\n",
      "To view visualization, open:\n",
      "\n",
      "http://localhost:8000/index.html?load=2025-07-20_17-24-01_scene_desc.json\n",
      "Press Ctrl+C to stop server...\n"
     ]
    },
    {
     "name": "stderr",
     "output_type": "stream",
     "text": [
      "127.0.0.1 - - [20/Jul/2025 17:24:01] \"GET /index.html?load=2025-07-20_17-24-01_scene_desc.json HTTP/1.1\" 200 -\n",
      "127.0.0.1 - - [20/Jul/2025 17:24:01] \"GET /css/bootstrap.min.css HTTP/1.1\" 200 -\n",
      "127.0.0.1 - - [20/Jul/2025 17:24:01] \"GET /css/slider.css HTTP/1.1\" 200 -\n",
      "127.0.0.1 - - [20/Jul/2025 17:24:01] \"GET /css/main.css HTTP/1.1\" 200 -\n",
      "127.0.0.1 - - [20/Jul/2025 17:24:01] \"GET /css/codemirror/codemirror.css HTTP/1.1\" 200 -\n",
      "127.0.0.1 - - [20/Jul/2025 17:24:01] \"GET /css/codemirror/blackboard.css HTTP/1.1\" 200 -\n",
      "127.0.0.1 - - [20/Jul/2025 17:24:01] \"GET /js/external/jquery/jquery.min.js HTTP/1.1\" 200 -\n",
      "127.0.0.1 - - [20/Jul/2025 17:24:01] \"GET /js/external/jquery/jquery-ui.js HTTP/1.1\" 200 -\n",
      "127.0.0.1 - - [20/Jul/2025 17:24:01] \"GET /js/external/bootstrap/bootstrap.min.js HTTP/1.1\" 200 -\n",
      "127.0.0.1 - - [20/Jul/2025 17:24:01] \"GET /js/external/codemirror/codemirror.js HTTP/1.1\" 200 -\n",
      "127.0.0.1 - - [20/Jul/2025 17:24:01] \"GET /js/external/codemirror/javascript-mode.js HTTP/1.1\" 200 -\n",
      "127.0.0.1 - - [20/Jul/2025 17:24:01] \"GET /js/external/three/three.min.js HTTP/1.1\" 200 -\n",
      "127.0.0.1 - - [20/Jul/2025 17:24:01] \"GET /js/external/three/TrackballControls.js HTTP/1.1\" 200 -\n",
      "127.0.0.1 - - [20/Jul/2025 17:24:01] \"GET /js/external/utils/bootstrap-slider.js HTTP/1.1\" 200 -\n",
      "127.0.0.1 - - [20/Jul/2025 17:24:01] \"GET /js/external/utils/modernizr-2.0.6.js HTTP/1.1\" 200 -\n",
      "127.0.0.1 - - [20/Jul/2025 17:24:01] \"GET /js/external/utils/prototype.js HTTP/1.1\" 200 -\n",
      "127.0.0.1 - - [20/Jul/2025 17:24:01] \"GET /js/dyviz/dv.js HTTP/1.1\" 200 -\n",
      "127.0.0.1 - - [20/Jul/2025 17:24:01] \"GET /js/dyviz/scene.js HTTP/1.1\" 200 -\n",
      "127.0.0.1 - - [20/Jul/2025 17:24:01] \"GET /js/dyviz/parser.js HTTP/1.1\" 200 -\n",
      "127.0.0.1 - - [20/Jul/2025 17:24:01] \"GET /js/dyviz/param_editor.js HTTP/1.1\" 200 -\n",
      "127.0.0.1 - - [20/Jul/2025 17:24:01] \"GET /js/dyviz/materials.js HTTP/1.1\" 200 -\n",
      "127.0.0.1 - - [20/Jul/2025 17:24:01] \"GET /js/dyviz/main.js HTTP/1.1\" 200 -\n",
      "127.0.0.1 - - [20/Jul/2025 17:24:01] \"GET /2025-07-20_17-24-01_scene_desc.json HTTP/1.1\" 200 -\n",
      "127.0.0.1 - - [20/Jul/2025 17:24:02] code 404, message File not found\n",
      "127.0.0.1 - - [20/Jul/2025 17:24:02] \"GET /fonts/glyphicons-halflings-regular.woff2 HTTP/1.1\" 404 -\n",
      "127.0.0.1 - - [20/Jul/2025 17:24:02] \"GET /2025-07-20_17-24-01_simulation_data.json HTTP/1.1\" 200 -\n",
      "127.0.0.1 - - [20/Jul/2025 17:24:02] \"GET /fonts/glyphicons-halflings-regular.woff HTTP/1.1\" 200 -\n",
      "127.0.0.1 - - [20/Jul/2025 17:24:02] code 404, message File not found\n",
      "127.0.0.1 - - [20/Jul/2025 17:24:02] \"GET /favicon.ico HTTP/1.1\" 404 -\n"
     ]
    }
   ],
   "source": [
    "# The following method opens up a simple gui that shows a 3D animatoin of the system.\n",
    "scene.display()  # Opens animation in your browser\n"
   ]
  },
  {
   "cell_type": "code",
   "execution_count": null,
   "id": "ec0f7a99-86ae-4d8c-83ab-259a54c6847e",
   "metadata": {},
   "outputs": [],
   "source": []
  }
 ],
 "metadata": {
  "kernelspec": {
   "display_name": "Python 3 (ipykernel)",
   "language": "python",
   "name": "python3"
  },
  "language_info": {
   "codemirror_mode": {
    "name": "ipython",
    "version": 3
   },
   "file_extension": ".py",
   "mimetype": "text/x-python",
   "name": "python",
   "nbconvert_exporter": "python",
   "pygments_lexer": "ipython3",
   "version": "3.12.7"
  }
 },
 "nbformat": 4,
 "nbformat_minor": 5
}
